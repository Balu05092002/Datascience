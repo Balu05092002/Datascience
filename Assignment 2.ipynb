{
 "cells": [
  {
   "cell_type": "markdown",
   "id": "6377d51a",
   "metadata": {},
   "source": [
    "1. Create a string variable and print its length."
   ]
  },
  {
   "cell_type": "code",
   "execution_count": 56,
   "id": "7173538d",
   "metadata": {},
   "outputs": [],
   "source": [
    "s = \"ROHITSHARMA\""
   ]
  },
  {
   "cell_type": "code",
   "execution_count": 37,
   "id": "b0ce15e1",
   "metadata": {},
   "outputs": [
    {
     "name": "stdout",
     "output_type": "stream",
     "text": [
      "11\n"
     ]
    }
   ],
   "source": [
    "print(len(s))"
   ]
  },
  {
   "cell_type": "markdown",
   "id": "56ae9b5d",
   "metadata": {},
   "source": [
    "2. Take a string input from the user and print it in reverse."
   ]
  },
  {
   "cell_type": "code",
   "execution_count": 38,
   "id": "ae6fbec0",
   "metadata": {},
   "outputs": [
    {
     "data": {
      "text/plain": [
       "'AMRAHSTIHOR'"
      ]
     },
     "execution_count": 38,
     "metadata": {},
     "output_type": "execute_result"
    }
   ],
   "source": [
    "s[::-1]"
   ]
  },
  {
   "cell_type": "markdown",
   "id": "21454bef",
   "metadata": {},
   "source": [
    "3. Replace all occurrences of \"a\" with \"@\" in a given string.\n",
    "\n"
   ]
  },
  {
   "cell_type": "code",
   "execution_count": 39,
   "id": "bc9b94f3",
   "metadata": {},
   "outputs": [],
   "source": [
    "s=s.replace('R','$')"
   ]
  },
  {
   "cell_type": "code",
   "execution_count": 310,
   "id": "9d4e0f35",
   "metadata": {},
   "outputs": [
    {
     "data": {
      "text/plain": [
       "'ROHITSHARMA'"
      ]
     },
     "execution_count": 310,
     "metadata": {},
     "output_type": "execute_result"
    }
   ],
   "source": [
    "s"
   ]
  },
  {
   "cell_type": "markdown",
   "id": "2931dacd",
   "metadata": {},
   "source": [
    "4. Convert a string to all uppercase letters using a loop (without .upper())."
   ]
  },
  {
   "cell_type": "code",
   "execution_count": 314,
   "id": "6eec39e9",
   "metadata": {},
   "outputs": [
    {
     "name": "stdout",
     "output_type": "stream",
     "text": [
      "ROHIT\n"
     ]
    }
   ],
   "source": [
    "ch = \"rohit\"\n",
    "upper=\"\"\n",
    "for i in ch:\n",
    "    if 'ch'<= i <= 'z':\n",
    "        upper+=chr(ord(i)-32)\n",
    "    else:\n",
    "        upper+=i\n",
    "print(upper)"
   ]
  },
  {
   "cell_type": "markdown",
   "id": "c64a78d0",
   "metadata": {},
   "source": [
    "5.Count how many times the letter \"e\" appears in a string.\n",
    "\n"
   ]
  },
  {
   "cell_type": "code",
   "execution_count": 41,
   "id": "555710cb",
   "metadata": {},
   "outputs": [
    {
     "data": {
      "text/plain": [
       "2"
      ]
     },
     "execution_count": 41,
     "metadata": {},
     "output_type": "execute_result"
    }
   ],
   "source": [
    "s.count('A')"
   ]
  },
  {
   "cell_type": "markdown",
   "id": "de07fdbe",
   "metadata": {},
   "source": [
    "6. Print the first and last character of a given string."
   ]
  },
  {
   "cell_type": "code",
   "execution_count": 48,
   "id": "d15d71c6",
   "metadata": {
    "scrolled": true
   },
   "outputs": [
    {
     "name": "stdout",
     "output_type": "stream",
     "text": [
      "$\n",
      "A\n"
     ]
    }
   ],
   "source": [
    "f=s[0]\n",
    "l=s[-1]\n",
    "print(f)\n",
    "print(l)\n"
   ]
  },
  {
   "cell_type": "markdown",
   "id": "78605ef2",
   "metadata": {},
   "source": [
    "7. Concatenate two strings and print the result.\n",
    "\n"
   ]
  },
  {
   "cell_type": "code",
   "execution_count": 50,
   "id": "042a91bb",
   "metadata": {},
   "outputs": [
    {
     "name": "stdout",
     "output_type": "stream",
     "text": [
      "rohitvirat\n"
     ]
    }
   ],
   "source": [
    "a=\"rohit\"\n",
    "b=\"virat\"\n",
    "c=a+b\n",
    "print(c)"
   ]
  },
  {
   "cell_type": "markdown",
   "id": "0a3f04e9",
   "metadata": {},
   "source": [
    "8. Check if a given string contains the word \"Python\".\n"
   ]
  },
  {
   "cell_type": "code",
   "execution_count": 52,
   "id": "c51d7f9a",
   "metadata": {},
   "outputs": [],
   "source": [
    "z=\"i am learning python\""
   ]
  },
  {
   "cell_type": "code",
   "execution_count": 54,
   "id": "1b54cf38",
   "metadata": {},
   "outputs": [
    {
     "data": {
      "text/plain": [
       "True"
      ]
     },
     "execution_count": 54,
     "metadata": {},
     "output_type": "execute_result"
    }
   ],
   "source": [
    "\"python\"in z"
   ]
  },
  {
   "cell_type": "markdown",
   "id": "4f3352d3",
   "metadata": {},
   "source": [
    "9. Remove all spaces from a string and print the new string.\n"
   ]
  },
  {
   "cell_type": "code",
   "execution_count": 62,
   "id": "ac731bdd",
   "metadata": {},
   "outputs": [
    {
     "name": "stdout",
     "output_type": "stream",
     "text": [
      "iamlearningpython\n"
     ]
    }
   ],
   "source": [
    "str=z.replace(\" \",\"\")\n",
    "print(str)"
   ]
  },
  {
   "cell_type": "markdown",
   "id": "3728f11b",
   "metadata": {},
   "source": [
    "10.Extract and print the first five characters of a string.\n",
    "\n"
   ]
  },
  {
   "cell_type": "code",
   "execution_count": 66,
   "id": "730e0399",
   "metadata": {},
   "outputs": [
    {
     "data": {
      "text/plain": [
       "'i am'"
      ]
     },
     "execution_count": 66,
     "metadata": {},
     "output_type": "execute_result"
    }
   ],
   "source": [
    "z[0:4]"
   ]
  },
  {
   "cell_type": "markdown",
   "id": "7885475c",
   "metadata": {},
   "source": [
    "11.Create a list of five numbers and print the list.\n",
    "\n",
    "\n"
   ]
  },
  {
   "cell_type": "code",
   "execution_count": 67,
   "id": "d6227d94",
   "metadata": {},
   "outputs": [
    {
     "data": {
      "text/plain": [
       "[1, 'ro', 2, 4, 5]"
      ]
     },
     "execution_count": 67,
     "metadata": {},
     "output_type": "execute_result"
    }
   ],
   "source": [
    "lst = [1,\"ro\",2,4,5]\n",
    "lst"
   ]
  },
  {
   "cell_type": "markdown",
   "id": "7d533719",
   "metadata": {},
   "source": [
    "12.Print the third element of a given list"
   ]
  },
  {
   "cell_type": "code",
   "execution_count": 70,
   "id": "962b8ff6",
   "metadata": {},
   "outputs": [
    {
     "data": {
      "text/plain": [
       "2"
      ]
     },
     "execution_count": 70,
     "metadata": {},
     "output_type": "execute_result"
    }
   ],
   "source": [
    "lst[2]"
   ]
  },
  {
   "cell_type": "markdown",
   "id": "9516a13c",
   "metadata": {},
   "source": [
    "13.Replace the second element of a list with \"hello\""
   ]
  },
  {
   "cell_type": "code",
   "execution_count": 72,
   "id": "199546ac",
   "metadata": {},
   "outputs": [
    {
     "data": {
      "text/plain": [
       "[1, 'hello', 2, 4, 5]"
      ]
     },
     "execution_count": 72,
     "metadata": {},
     "output_type": "execute_result"
    }
   ],
   "source": [
    "lst[1] = \"hello\"\n",
    "lst"
   ]
  },
  {
   "cell_type": "markdown",
   "id": "e4e952c3",
   "metadata": {},
   "source": [
    "14.Add a new element to the end of a list\n",
    "\n",
    "\n",
    "\n",
    "\n"
   ]
  },
  {
   "cell_type": "code",
   "execution_count": 75,
   "id": "b65c78bf",
   "metadata": {},
   "outputs": [
    {
     "data": {
      "text/plain": [
       "[1, 'hello', 2, 4, 5, 'world', 'world']"
      ]
     },
     "execution_count": 75,
     "metadata": {},
     "output_type": "execute_result"
    }
   ],
   "source": [
    "lst.append (\"world\")\n",
    "lst"
   ]
  },
  {
   "cell_type": "code",
   "execution_count": 152,
   "id": "724d27f8",
   "metadata": {},
   "outputs": [
    {
     "data": {
      "text/plain": [
       "[2, 'world']"
      ]
     },
     "execution_count": 152,
     "metadata": {},
     "output_type": "execute_result"
    }
   ],
   "source": [
    "lst + [\"world\"]"
   ]
  },
  {
   "cell_type": "markdown",
   "id": "a7951a1c",
   "metadata": {},
   "source": [
    "15.Remove the last element from a list and print the modified list.\n"
   ]
  },
  {
   "cell_type": "code",
   "execution_count": 98,
   "id": "382dc1fa",
   "metadata": {},
   "outputs": [
    {
     "data": {
      "text/plain": [
       "[2]"
      ]
     },
     "execution_count": 98,
     "metadata": {},
     "output_type": "execute_result"
    }
   ],
   "source": [
    "lst.remove(1)\n",
    "lst"
   ]
  },
  {
   "cell_type": "markdown",
   "id": "8bc84dbb",
   "metadata": {},
   "source": [
    "\n",
    "16.Print each element of a list one by one using a loop."
   ]
  },
  {
   "cell_type": "code",
   "execution_count": 316,
   "id": "a03f4aae",
   "metadata": {},
   "outputs": [
    {
     "name": "stdout",
     "output_type": "stream",
     "text": [
      "1\n",
      "2\n",
      "3\n",
      "4\n",
      "5\n"
     ]
    }
   ],
   "source": [
    "lst10 = [1,2,3,4,5]\n",
    "for items in lst10:\n",
    "    print(items)"
   ]
  },
  {
   "cell_type": "code",
   "execution_count": 100,
   "id": "ba6b1ccb",
   "metadata": {},
   "outputs": [],
   "source": [
    "l1 = [1,2,3,4,5,6,7,10]"
   ]
  },
  {
   "cell_type": "code",
   "execution_count": 102,
   "id": "73bef2fb",
   "metadata": {},
   "outputs": [
    {
     "data": {
      "text/plain": [
       "1"
      ]
     },
     "execution_count": 102,
     "metadata": {},
     "output_type": "execute_result"
    }
   ],
   "source": [
    "l1.count(10)"
   ]
  },
  {
   "cell_type": "markdown",
   "id": "a1dbdc67",
   "metadata": {},
   "source": [
    "17.Check if the number 10 is in a given list."
   ]
  },
  {
   "cell_type": "code",
   "execution_count": 104,
   "id": "f191b4b9",
   "metadata": {},
   "outputs": [
    {
     "data": {
      "text/plain": [
       "True"
      ]
     },
     "execution_count": 104,
     "metadata": {},
     "output_type": "execute_result"
    }
   ],
   "source": [
    "10 in l1"
   ]
  },
  {
   "cell_type": "markdown",
   "id": "ac8db70c",
   "metadata": {},
   "source": [
    "18.Create two lists and join them into one."
   ]
  },
  {
   "cell_type": "code",
   "execution_count": 107,
   "id": "57b37577",
   "metadata": {},
   "outputs": [
    {
     "name": "stdout",
     "output_type": "stream",
     "text": [
      "[[1, 2, 3, 4, 5, 6, 7, 8, 9, 10]]\n"
     ]
    }
   ],
   "source": [
    "l2 = [1,2,3,4,5]\n",
    "l3 = [6,7,8,9,10]\n",
    "l4 = [l2 + l3]\n",
    "print(l4)"
   ]
  },
  {
   "cell_type": "markdown",
   "id": "edc2f5e0",
   "metadata": {},
   "source": [
    "19.Print a list in reverse order without using slicing ([::-1]).\n"
   ]
  },
  {
   "cell_type": "code",
   "execution_count": 112,
   "id": "4b92c6cf",
   "metadata": {},
   "outputs": [],
   "source": [
    "l5 = [1,2,3,4,5]"
   ]
  },
  {
   "cell_type": "code",
   "execution_count": 312,
   "id": "88bc03d7",
   "metadata": {},
   "outputs": [
    {
     "data": {
      "text/plain": [
       "[5, 4, 3, 2, 1]"
      ]
     },
     "execution_count": 312,
     "metadata": {},
     "output_type": "execute_result"
    }
   ],
   "source": [
    "l5.reverse()\n",
    "l5"
   ]
  },
  {
   "cell_type": "markdown",
   "id": "ec9be508",
   "metadata": {},
   "source": [
    "21.Create a tuple of three colors and print it.\n",
    "\n",
    "\n",
    "\n",
    "\n",
    "\n",
    "\n",
    "\n",
    "\n"
   ]
  },
  {
   "cell_type": "code",
   "execution_count": 123,
   "id": "0a89c20e",
   "metadata": {},
   "outputs": [],
   "source": [
    "tpl = (\"blue\", \"orange\", \"red\")"
   ]
  },
  {
   "cell_type": "markdown",
   "id": "df594f5a",
   "metadata": {},
   "source": [
    "22.Print the second element of a given tuple.\n"
   ]
  },
  {
   "cell_type": "code",
   "execution_count": 125,
   "id": "b206371b",
   "metadata": {},
   "outputs": [
    {
     "data": {
      "text/plain": [
       "'orange'"
      ]
     },
     "execution_count": 125,
     "metadata": {},
     "output_type": "execute_result"
    }
   ],
   "source": [
    "tpl[1]"
   ]
  },
  {
   "cell_type": "markdown",
   "id": "cacc3eae",
   "metadata": {},
   "source": [
    "23.Try changing an element in a tuple (observe the error)."
   ]
  },
  {
   "cell_type": "code",
   "execution_count": 127,
   "id": "e57d9c17",
   "metadata": {},
   "outputs": [
    {
     "ename": "AttributeError",
     "evalue": "'tuple' object has no attribute 'replace'",
     "output_type": "error",
     "traceback": [
      "\u001b[1;31m---------------------------------------------------------------------------\u001b[0m",
      "\u001b[1;31mAttributeError\u001b[0m                            Traceback (most recent call last)",
      "Cell \u001b[1;32mIn[127], line 1\u001b[0m\n\u001b[1;32m----> 1\u001b[0m tpl \u001b[38;5;241m=\u001b[39m tpl\u001b[38;5;241m.\u001b[39mreplace(\u001b[38;5;124m\"\u001b[39m\u001b[38;5;124mblue\u001b[39m\u001b[38;5;124m\"\u001b[39m,\u001b[38;5;124m\"\u001b[39m\u001b[38;5;124mwhite\u001b[39m\u001b[38;5;124m\"\u001b[39m)\n",
      "\u001b[1;31mAttributeError\u001b[0m: 'tuple' object has no attribute 'replace'"
     ]
    }
   ],
   "source": [
    "tpl = tpl.replace(\"blue\",\"white\")"
   ]
  },
  {
   "cell_type": "markdown",
   "id": "6af3e1b4",
   "metadata": {},
   "source": [
    "24.Convert a tuple to a list and print it"
   ]
  },
  {
   "cell_type": "code",
   "execution_count": 130,
   "id": "b1aacd29",
   "metadata": {
    "scrolled": true
   },
   "outputs": [
    {
     "data": {
      "text/plain": [
       "list"
      ]
     },
     "execution_count": 130,
     "metadata": {},
     "output_type": "execute_result"
    }
   ],
   "source": [
    "tpl1 = list(tpl)\n",
    "type(tpl1)"
   ]
  },
  {
   "cell_type": "markdown",
   "id": "f70bb963",
   "metadata": {},
   "source": [
    "25.Check if \"blue\" exists in a given tuple\n"
   ]
  },
  {
   "cell_type": "code",
   "execution_count": 134,
   "id": "7f9663a3",
   "metadata": {},
   "outputs": [],
   "source": [
    "tpl2 = (1,2,3,4)"
   ]
  },
  {
   "cell_type": "code",
   "execution_count": 136,
   "id": "8383e2df",
   "metadata": {},
   "outputs": [
    {
     "data": {
      "text/plain": [
       "True"
      ]
     },
     "execution_count": 136,
     "metadata": {},
     "output_type": "execute_result"
    }
   ],
   "source": [
    "2 in tpl2"
   ]
  },
  {
   "cell_type": "markdown",
   "id": "6fb4f622",
   "metadata": {},
   "source": [
    "27.Merge two tuples and print the result.\n"
   ]
  },
  {
   "cell_type": "code",
   "execution_count": 139,
   "id": "33be2dfc",
   "metadata": {},
   "outputs": [],
   "source": [
    "t1 = (45,18,7)\n",
    "t2 = (\"rohit\",\"virat\",\"Dhoni\")\n",
    "t3 = t1 + t2"
   ]
  },
  {
   "cell_type": "code",
   "execution_count": 144,
   "id": "5977fa96",
   "metadata": {},
   "outputs": [
    {
     "name": "stdout",
     "output_type": "stream",
     "text": [
      "(45, 18, 7, 'rohit', 'virat', 'Dhoni')\n"
     ]
    }
   ],
   "source": [
    "print(t3)"
   ]
  },
  {
   "cell_type": "markdown",
   "id": "97b2dc04",
   "metadata": {},
   "source": [
    "28.Print a tuple in reverse order.\n"
   ]
  },
  {
   "cell_type": "code",
   "execution_count": 149,
   "id": "1eaf4cff",
   "metadata": {},
   "outputs": [
    {
     "data": {
      "text/plain": [
       "('red', 'orange', 'blue')"
      ]
     },
     "execution_count": 149,
     "metadata": {},
     "output_type": "execute_result"
    }
   ],
   "source": [
    "tpl[::-1]"
   ]
  },
  {
   "cell_type": "markdown",
   "id": "f90c0465",
   "metadata": {},
   "source": [
    "29.Find the length of a tuple without using len()\n"
   ]
  },
  {
   "cell_type": "code",
   "execution_count": 156,
   "id": "9c1f1f16",
   "metadata": {},
   "outputs": [
    {
     "name": "stdout",
     "output_type": "stream",
     "text": [
      "6\n"
     ]
    }
   ],
   "source": [
    "tpl5 = (1,5,6,7,8)\n",
    "c =1\n",
    "for i in tpl5:\n",
    "    c+=1\n",
    "print(c)"
   ]
  },
  {
   "cell_type": "markdown",
   "id": "8c9f0dbb",
   "metadata": {},
   "source": [
    "30.Create a tuple with a single element and print its type.\n"
   ]
  },
  {
   "cell_type": "code",
   "execution_count": 158,
   "id": "55ad2f9b",
   "metadata": {},
   "outputs": [
    {
     "name": "stdout",
     "output_type": "stream",
     "text": [
      "<class 'str'>\n"
     ]
    }
   ],
   "source": [
    "tple6= (\"rohit\")\n",
    "print(type(tple6))"
   ]
  },
  {
   "cell_type": "markdown",
   "id": "b98ca56d",
   "metadata": {},
   "source": [
    "31.Create a string \"Hello, World!\" and print only \"World!\".\n",
    "\n"
   ]
  },
  {
   "cell_type": "code",
   "execution_count": 165,
   "id": "00303f5b",
   "metadata": {},
   "outputs": [
    {
     "name": "stdout",
     "output_type": "stream",
     "text": [
      "World!\n"
     ]
    }
   ],
   "source": [
    "str = \"Hello, World!\"\n",
    "print(str[7:])"
   ]
  },
  {
   "cell_type": "markdown",
   "id": "84940f8f",
   "metadata": {},
   "source": [
    "32.Convert \"Python is fun\" to \"PYTHON IS FUN\" without using .upper()."
   ]
  },
  {
   "cell_type": "markdown",
   "id": "a34768b4",
   "metadata": {},
   "source": [
    "34.Take a string input from the user and check if it starts with \"Hello\".\n"
   ]
  },
  {
   "cell_type": "code",
   "execution_count": 168,
   "id": "61b60b59",
   "metadata": {},
   "outputs": [
    {
     "data": {
      "text/plain": [
       "True"
      ]
     },
     "execution_count": 168,
     "metadata": {},
     "output_type": "execute_result"
    }
   ],
   "source": [
    "str1 = \"Hello world\"\n",
    "str1.startswith(\"Hello\")"
   ]
  },
  {
   "cell_type": "markdown",
   "id": "dbbbfa52",
   "metadata": {},
   "source": [
    "35.Print every second character of a string.\n"
   ]
  },
  {
   "cell_type": "code",
   "execution_count": 170,
   "id": "a8c7ce6f",
   "metadata": {},
   "outputs": [
    {
     "data": {
      "text/plain": [
       "'e'"
      ]
     },
     "execution_count": 170,
     "metadata": {},
     "output_type": "execute_result"
    }
   ],
   "source": [
    "str1[1]"
   ]
  },
  {
   "cell_type": "markdown",
   "id": "6761bcc0",
   "metadata": {},
   "source": [
    "36.Replace all vowels in a string with \"*\".\n",
    "\n"
   ]
  },
  {
   "cell_type": "code",
   "execution_count": null,
   "id": "b5137362",
   "metadata": {},
   "outputs": [],
   "source": []
  },
  {
   "cell_type": "markdown",
   "id": "56d1e976",
   "metadata": {},
   "source": [
    "37.Swap the first and last character of a string.\n"
   ]
  },
  {
   "cell_type": "code",
   "execution_count": 180,
   "id": "cff74773",
   "metadata": {},
   "outputs": [
    {
     "data": {
      "text/plain": [
       "'nythop'"
      ]
     },
     "execution_count": 180,
     "metadata": {},
     "output_type": "execute_result"
    }
   ],
   "source": [
    "c2 = \"python\"\n",
    "swapping = c2[-1] + c2[1:-1] + c2[0]\n",
    "swapping"
   ]
  },
  {
   "cell_type": "markdown",
   "id": "be28c5e4",
   "metadata": {},
   "source": [
    "38.Check if two given strings are the same (case-sensitive)"
   ]
  },
  {
   "cell_type": "code",
   "execution_count": 182,
   "id": "9a3e56fb",
   "metadata": {},
   "outputs": [
    {
     "name": "stdout",
     "output_type": "stream",
     "text": [
      "false\n"
     ]
    }
   ],
   "source": [
    "str1= \"hello\"\n",
    "str2 =\"Hello\"\n",
    "if str1==str2:\n",
    "    print(\"true\")\n",
    "else:\n",
    "    print(\"false\")\n",
    "    "
   ]
  },
  {
   "cell_type": "markdown",
   "id": "30d8bfa3",
   "metadata": {},
   "source": [
    "39.Print a string without the first and last character.\n"
   ]
  },
  {
   "cell_type": "code",
   "execution_count": 184,
   "id": "d3d80bc1",
   "metadata": {},
   "outputs": [
    {
     "data": {
      "text/plain": [
       "'ell'"
      ]
     },
     "execution_count": 184,
     "metadata": {},
     "output_type": "execute_result"
    }
   ],
   "source": [
    "str3 = \"Hello\"\n",
    "k = str3[1:-1]\n",
    "k\n"
   ]
  },
  {
   "cell_type": "markdown",
   "id": "a0617e2e",
   "metadata": {},
   "source": [
    "40.Convert a string \"12345\" into a list of individual characters.\n"
   ]
  },
  {
   "cell_type": "code",
   "execution_count": 195,
   "id": "c7557eb7",
   "metadata": {
    "scrolled": true
   },
   "outputs": [
    {
     "name": "stdout",
     "output_type": "stream",
     "text": [
      "1\n",
      "2\n",
      "3\n",
      "4\n",
      "5\n"
     ]
    }
   ],
   "source": [
    "str4 =\"12345\"\n",
    "for i in range(len(str4)):\n",
    "    print(str4[i])\n",
    "    "
   ]
  },
  {
   "cell_type": "code",
   "execution_count": 197,
   "id": "6dcec637",
   "metadata": {},
   "outputs": [
    {
     "data": {
      "text/plain": [
       "['1', '2', '3', '4', '5']"
      ]
     },
     "execution_count": 197,
     "metadata": {},
     "output_type": "execute_result"
    }
   ],
   "source": [
    "l = list(str4)\n",
    "l\n"
   ]
  },
  {
   "cell_type": "markdown",
   "id": "2610243b",
   "metadata": {},
   "source": [
    "41.Create a list of five cities and print only the last three.\n"
   ]
  },
  {
   "cell_type": "code",
   "execution_count": 200,
   "id": "1516a396",
   "metadata": {},
   "outputs": [
    {
     "data": {
      "text/plain": [
       "['Delhi', 'Chennai', 'Goa']"
      ]
     },
     "execution_count": 200,
     "metadata": {},
     "output_type": "execute_result"
    }
   ],
   "source": [
    "str5 = [\"Hyderabad\",\"Mumbai\",\"Delhi\",\"Chennai\",\"Goa\"]\n",
    "str5[2:5]"
   ]
  },
  {
   "cell_type": "markdown",
   "id": "8c67dd9e",
   "metadata": {},
   "source": [
    "42.Remove the middle element from a list of five elements"
   ]
  },
  {
   "cell_type": "code",
   "execution_count": 206,
   "id": "3b4371bc",
   "metadata": {},
   "outputs": [],
   "source": [
    "str6 = [1,2,3,4,5]\n",
    "str6.remove(3)"
   ]
  },
  {
   "cell_type": "code",
   "execution_count": 208,
   "id": "0fccd0a2",
   "metadata": {},
   "outputs": [
    {
     "data": {
      "text/plain": [
       "[1, 2, 4, 5]"
      ]
     },
     "execution_count": 208,
     "metadata": {},
     "output_type": "execute_result"
    }
   ],
   "source": [
    "str6"
   ]
  },
  {
   "cell_type": "markdown",
   "id": "265c5335",
   "metadata": {},
   "source": [
    "43.Take five numbers from the user and store them in a list.\n"
   ]
  },
  {
   "cell_type": "markdown",
   "id": "edc6b84d",
   "metadata": {},
   "source": [
    "str7 = 1,2,3,4,5\n",
    "z= list[str7]\n",
    "z"
   ]
  },
  {
   "cell_type": "code",
   "execution_count": 214,
   "id": "9eb62d2d",
   "metadata": {},
   "outputs": [
    {
     "data": {
      "text/plain": [
       "list[1, 2, 3, 4, 5]"
      ]
     },
     "execution_count": 214,
     "metadata": {},
     "output_type": "execute_result"
    }
   ],
   "source": [
    "z"
   ]
  },
  {
   "cell_type": "markdown",
   "id": "6b4f72f4",
   "metadata": {},
   "source": [
    "44.Find the index of \"apple\" in the list [\"banana\", \"orange\", \"apple\", \"grape\"].\n",
    "\n"
   ]
  },
  {
   "cell_type": "code",
   "execution_count": 217,
   "id": "88262e48",
   "metadata": {},
   "outputs": [
    {
     "data": {
      "text/plain": [
       "0"
      ]
     },
     "execution_count": 217,
     "metadata": {},
     "output_type": "execute_result"
    }
   ],
   "source": [
    "str8 = [\"banana\", \"orange\", \"apple\",\"grape\"]\n",
    "str8.index(\"banana\")"
   ]
  },
  {
   "cell_type": "markdown",
   "id": "d1baa6da",
   "metadata": {},
   "source": [
    "45.Print only the even numbers from a given list."
   ]
  },
  {
   "cell_type": "code",
   "execution_count": 223,
   "id": "21120889",
   "metadata": {},
   "outputs": [
    {
     "name": "stdout",
     "output_type": "stream",
     "text": [
      "2\n",
      "4\n",
      "6\n"
     ]
    }
   ],
   "source": [
    "str9 = [1,2,3,4,5,6]\n",
    "for i in range(len(str9)):\n",
    "    if str9[i]%2==0:\n",
    "        print(str9[i])\n",
    "    "
   ]
  },
  {
   "cell_type": "markdown",
   "id": "7e1b3d8a",
   "metadata": {},
   "source": [
    "46.Reverse a list by swapping elements (without [::-1]).\n"
   ]
  },
  {
   "cell_type": "code",
   "execution_count": 224,
   "id": "ccf59e98",
   "metadata": {},
   "outputs": [
    {
     "data": {
      "text/plain": [
       "'Hello, World!'"
      ]
     },
     "execution_count": 224,
     "metadata": {},
     "output_type": "execute_result"
    }
   ],
   "source": [
    "str "
   ]
  },
  {
   "cell_type": "markdown",
   "id": "ad7da160",
   "metadata": {},
   "source": [
    "47.Create a list of ten numbers and print only the unique elements.\n"
   ]
  },
  {
   "cell_type": "code",
   "execution_count": 228,
   "id": "84698fa7",
   "metadata": {},
   "outputs": [],
   "source": [
    "lts = [1,2,2,4,6,6,8,8,9,10]\n",
    "pq = set(lts)"
   ]
  },
  {
   "cell_type": "code",
   "execution_count": 230,
   "id": "28b44c7a",
   "metadata": {},
   "outputs": [
    {
     "data": {
      "text/plain": [
       "{1, 2, 4, 6, 8, 9, 10}"
      ]
     },
     "execution_count": 230,
     "metadata": {},
     "output_type": "execute_result"
    }
   ],
   "source": [
    "pq"
   ]
  },
  {
   "cell_type": "markdown",
   "id": "b2cb9ca1",
   "metadata": {},
   "source": [
    "48.Print the sum of all elements in a list (without using sum()).\n"
   ]
  },
  {
   "cell_type": "code",
   "execution_count": 234,
   "id": "1d8ec37a",
   "metadata": {},
   "outputs": [
    {
     "name": "stdout",
     "output_type": "stream",
     "text": [
      "the sum of numbers 108\n"
     ]
    }
   ],
   "source": [
    "lts1 = [1,2,3,4,5,6,78,9]\n",
    "xy=0\n",
    "for i in lts1:\n",
    "    xy+=i\n",
    "print(\"the sum of numbers\",xy)\n",
    "    "
   ]
  },
  {
   "cell_type": "markdown",
   "id": "b6409a30",
   "metadata": {},
   "source": [
    "49.Move the first element of a list to the last position.\n",
    "\n"
   ]
  },
  {
   "cell_type": "code",
   "execution_count": 240,
   "id": "1a830047",
   "metadata": {},
   "outputs": [
    {
     "data": {
      "text/plain": [
       "[2, 3, 4, 5, 1]"
      ]
     },
     "execution_count": 240,
     "metadata": {},
     "output_type": "execute_result"
    }
   ],
   "source": [
    "x =  [1,2,3,4,5]\n",
    "x1 = x[1:] + [x[0]]\n",
    "x1\n"
   ]
  },
  {
   "cell_type": "markdown",
   "id": "166a83f2",
   "metadata": {},
   "source": [
    "50.Create a list with mixed data types (int, float, string) and print each element with its type."
   ]
  },
  {
   "cell_type": "code",
   "execution_count": 252,
   "id": "5cbf7cdd",
   "metadata": {},
   "outputs": [
    {
     "name": "stdout",
     "output_type": "stream",
     "text": [
      "Value: 42, Type: <class 'int'>\n",
      "Value: 3.14, Type: <class 'float'>\n",
      "Value: Hello, Type: <class 'str'>\n",
      "Value: 100, Type: <class 'int'>\n",
      "Value: World, Type: <class 'str'>\n",
      "Value: 7.89, Type: <class 'float'>\n"
     ]
    }
   ],
   "source": [
    "mixed_list = [42, 3.14, \"Hello\", 100, \"World\", 7.89]\n",
    "\n",
    "\n",
    "for item in mixed_list:\n",
    "    print(f\"Value: {item}, Type: {type(item)}\")\n",
    "    "
   ]
  },
  {
   "cell_type": "markdown",
   "id": "92478d28",
   "metadata": {},
   "source": [
    "51.Create a tuple of five numbers and print only the first three.\n",
    "\n"
   ]
  },
  {
   "cell_type": "code",
   "execution_count": 254,
   "id": "0b449bb3",
   "metadata": {},
   "outputs": [],
   "source": [
    "tup = (1,2,3,4,5)\n"
   ]
  },
  {
   "cell_type": "code",
   "execution_count": 257,
   "id": "47a7a7e0",
   "metadata": {},
   "outputs": [
    {
     "data": {
      "text/plain": [
       "(1, 2, 3)"
      ]
     },
     "execution_count": 257,
     "metadata": {},
     "output_type": "execute_result"
    }
   ],
   "source": [
    "tup[0:3]"
   ]
  },
  {
   "cell_type": "markdown",
   "id": "c7a468b2",
   "metadata": {},
   "source": [
    "52.Print the last element of a tuple without using negative indexing."
   ]
  },
  {
   "cell_type": "code",
   "execution_count": 260,
   "id": "cf432982",
   "metadata": {},
   "outputs": [
    {
     "data": {
      "text/plain": [
       "(1, 2, 3, 4, 5)"
      ]
     },
     "execution_count": 260,
     "metadata": {},
     "output_type": "execute_result"
    }
   ],
   "source": [
    "tup"
   ]
  },
  {
   "cell_type": "code",
   "execution_count": 262,
   "id": "8990ecc1",
   "metadata": {},
   "outputs": [],
   "source": [
    "tup1 = tup[len(tup) - 1]"
   ]
  },
  {
   "cell_type": "code",
   "execution_count": 263,
   "id": "39107dd4",
   "metadata": {},
   "outputs": [
    {
     "data": {
      "text/plain": [
       "5"
      ]
     },
     "execution_count": 263,
     "metadata": {},
     "output_type": "execute_result"
    }
   ],
   "source": [
    "tup1"
   ]
  },
  {
   "cell_type": "markdown",
   "id": "c99007ac",
   "metadata": {},
   "source": [
    "53.Convert a tuple (1, 2, 3, 4, 5) into a list and add a new number."
   ]
  },
  {
   "cell_type": "code",
   "execution_count": 265,
   "id": "6488e088",
   "metadata": {},
   "outputs": [
    {
     "data": {
      "text/plain": [
       "(1, 2, 3, 4, 5)"
      ]
     },
     "execution_count": 265,
     "metadata": {},
     "output_type": "execute_result"
    }
   ],
   "source": [
    "tup"
   ]
  },
  {
   "cell_type": "code",
   "execution_count": 270,
   "id": "baeaab72",
   "metadata": {},
   "outputs": [],
   "source": [
    "tup1= (18,45,7,10)\n",
    "my_list1 = list(tup1)\n",
    "my_list1.append(33)"
   ]
  },
  {
   "cell_type": "code",
   "execution_count": 272,
   "id": "3cb7ed58",
   "metadata": {},
   "outputs": [
    {
     "data": {
      "text/plain": [
       "[18, 45, 7, 10, 33]"
      ]
     },
     "execution_count": 272,
     "metadata": {},
     "output_type": "execute_result"
    }
   ],
   "source": [
    "my_list1"
   ]
  },
  {
   "cell_type": "markdown",
   "id": "638e47f2",
   "metadata": {},
   "source": [
    "54.Try deleting an element from a tuple and observe the error.\n"
   ]
  },
  {
   "cell_type": "code",
   "execution_count": 274,
   "id": "05859e6d",
   "metadata": {},
   "outputs": [
    {
     "ename": "AttributeError",
     "evalue": "'tuple' object has no attribute 'append'",
     "output_type": "error",
     "traceback": [
      "\u001b[1;31m---------------------------------------------------------------------------\u001b[0m",
      "\u001b[1;31mAttributeError\u001b[0m                            Traceback (most recent call last)",
      "Cell \u001b[1;32mIn[274], line 2\u001b[0m\n\u001b[0;32m      1\u001b[0m my_tuple\u001b[38;5;241m=\u001b[39m (\u001b[38;5;241m1\u001b[39m,\u001b[38;5;241m2\u001b[39m,\u001b[38;5;241m3\u001b[39m,\u001b[38;5;241m4\u001b[39m)\n\u001b[1;32m----> 2\u001b[0m my_tuple\u001b[38;5;241m.\u001b[39mappend(\u001b[38;5;241m5\u001b[39m)\n",
      "\u001b[1;31mAttributeError\u001b[0m: 'tuple' object has no attribute 'append'"
     ]
    }
   ],
   "source": [
    "my_tuple= (1,2,3,4)\n",
    "my_tuple.append(5)"
   ]
  },
  {
   "cell_type": "markdown",
   "id": "45e83ae6",
   "metadata": {},
   "source": [
    "55.Extract the middle element from a tuple with an odd number of elements."
   ]
  },
  {
   "cell_type": "code",
   "execution_count": 284,
   "id": "78429a12",
   "metadata": {},
   "outputs": [],
   "source": [
    "tupl1 = (1,2,3,4,5)\n",
    "yz= len(tupl1)\n",
    "m = int((yz)//2)"
   ]
  },
  {
   "cell_type": "code",
   "execution_count": 285,
   "id": "6a084867",
   "metadata": {},
   "outputs": [
    {
     "data": {
      "text/plain": [
       "3"
      ]
     },
     "execution_count": 285,
     "metadata": {},
     "output_type": "execute_result"
    }
   ],
   "source": [
    "tupl1[m]"
   ]
  },
  {
   "cell_type": "markdown",
   "id": "f7a24dec",
   "metadata": {},
   "source": [
    "56.Check if two tuples (1, 2, 3) and (3, 2, 1) are the same."
   ]
  },
  {
   "cell_type": "code",
   "execution_count": 287,
   "id": "fca486ee",
   "metadata": {},
   "outputs": [],
   "source": [
    "t1 = (1,2,3)\n",
    "t2 = (3,2,1)\n",
    "t3 = t1 == t2"
   ]
  },
  {
   "cell_type": "code",
   "execution_count": 288,
   "id": "5b06d49e",
   "metadata": {},
   "outputs": [
    {
     "data": {
      "text/plain": [
       "False"
      ]
     },
     "execution_count": 288,
     "metadata": {},
     "output_type": "execute_result"
    }
   ],
   "source": [
    "t3"
   ]
  },
  {
   "cell_type": "markdown",
   "id": "8aa97cd5",
   "metadata": {},
   "source": [
    "57.Create a nested tuple and print an inner element."
   ]
  },
  {
   "cell_type": "code",
   "execution_count": 300,
   "id": "50d2cc85",
   "metadata": {},
   "outputs": [
    {
     "data": {
      "text/plain": [
       "'Rohit'"
      ]
     },
     "execution_count": 300,
     "metadata": {},
     "output_type": "execute_result"
    }
   ],
   "source": [
    "tuple1=(1,2,3,(\"Rohit\",45,18),7)\n",
    "tuple1[3][0]"
   ]
  },
  {
   "cell_type": "code",
   "execution_count": 295,
   "id": "325bd5bf",
   "metadata": {},
   "outputs": [
    {
     "data": {
      "text/plain": [
       "((1, 2, 3, 4, 5), (5, 6, 7, 8, 9))"
      ]
     },
     "execution_count": 295,
     "metadata": {},
     "output_type": "execute_result"
    }
   ],
   "source": [
    "tc"
   ]
  },
  {
   "cell_type": "code",
   "execution_count": 296,
   "id": "fedadf3c",
   "metadata": {},
   "outputs": [
    {
     "data": {
      "text/plain": [
       "3"
      ]
     },
     "execution_count": 296,
     "metadata": {},
     "output_type": "execute_result"
    }
   ],
   "source": [
    "tc[0][2]"
   ]
  },
  {
   "cell_type": "markdown",
   "id": "16fd6746",
   "metadata": {},
   "source": [
    "58.Merge three tuples into one.\n"
   ]
  },
  {
   "cell_type": "code",
   "execution_count": 297,
   "id": "6b8a6d5a",
   "metadata": {},
   "outputs": [],
   "source": [
    "ta =(1,2,3,4,5)\n",
    "tb =(5,6,7,8,9)\n",
    "tc =(\"r\",\"b\")\n",
    "td =(ta,tb,tc)"
   ]
  },
  {
   "cell_type": "code",
   "execution_count": 298,
   "id": "bfd8791a",
   "metadata": {},
   "outputs": [
    {
     "data": {
      "text/plain": [
       "((1, 2, 3, 4, 5), (5, 6, 7, 8, 9), ('r', 'b'))"
      ]
     },
     "execution_count": 298,
     "metadata": {},
     "output_type": "execute_result"
    }
   ],
   "source": [
    "td"
   ]
  },
  {
   "cell_type": "markdown",
   "id": "139f3d9e",
   "metadata": {},
   "source": [
    "59.Find the index of 5 in the tuple (1, 3, 5, 7, 9).\n"
   ]
  },
  {
   "cell_type": "code",
   "execution_count": 305,
   "id": "c28b6732",
   "metadata": {},
   "outputs": [
    {
     "data": {
      "text/plain": [
       "2"
      ]
     },
     "execution_count": 305,
     "metadata": {},
     "output_type": "execute_result"
    }
   ],
   "source": [
    "tuple2=(1,3,5,7,9)\n",
    "tuple2.index(5)"
   ]
  },
  {
   "cell_type": "markdown",
   "id": "1d79edae",
   "metadata": {},
   "source": [
    "60.Unpack a tuple into separate variables."
   ]
  },
  {
   "cell_type": "code",
   "execution_count": 317,
   "id": "12baac26",
   "metadata": {},
   "outputs": [
    {
     "name": "stdout",
     "output_type": "stream",
     "text": [
      "1\n",
      "2\n",
      "3\n",
      "4\n"
     ]
    }
   ],
   "source": [
    "tuple3 =(1,2,3,4,5)\n",
    "a,b,c,d,e=tuple3\n",
    "print(a)\n",
    "print(b)\n",
    "print(c)\n",
    "print(d)"
   ]
  },
  {
   "cell_type": "markdown",
   "id": "57afcf9b",
   "metadata": {},
   "source": [
    "20.Sort a list in ascending order without using .sort()."
   ]
  },
  {
   "cell_type": "code",
   "execution_count": 326,
   "id": "e309204e",
   "metadata": {},
   "outputs": [],
   "source": [
    "list33 = [5,4,3,2,1]\n",
    "list93 = set(list33)\n"
   ]
  },
  {
   "cell_type": "code",
   "execution_count": 327,
   "id": "34121d18",
   "metadata": {},
   "outputs": [
    {
     "data": {
      "text/plain": [
       "{1, 2, 3, 4, 5}"
      ]
     },
     "execution_count": 327,
     "metadata": {},
     "output_type": "execute_result"
    }
   ],
   "source": [
    "list93"
   ]
  },
  {
   "cell_type": "markdown",
   "id": "168b8cb4",
   "metadata": {},
   "source": [
    "26.Print each element of a tuple using a loop."
   ]
  },
  {
   "cell_type": "code",
   "execution_count": 332,
   "id": "852632ad",
   "metadata": {},
   "outputs": [
    {
     "name": "stdout",
     "output_type": "stream",
     "text": [
      "1\n",
      "2\n",
      "3\n",
      "4\n",
      "5\n",
      "6\n"
     ]
    }
   ],
   "source": [
    "tupl33 = (1,2,3,4,5,6)\n",
    "for i in tupl33:\n",
    "    print(i)"
   ]
  },
  {
   "cell_type": "markdown",
   "id": "ae90f831",
   "metadata": {},
   "source": [
    "33.Count how many words are in \"I love learning Python\" (without using .split()).\n"
   ]
  },
  {
   "cell_type": "code",
   "execution_count": 336,
   "id": "e7f16e28",
   "metadata": {},
   "outputs": [
    {
     "name": "stdout",
     "output_type": "stream",
     "text": [
      "4\n"
     ]
    }
   ],
   "source": [
    "str33 = \"I love learning Python\"\n",
    "count=1\n",
    "for i in str33:\n",
    "    if i==\" \":\n",
    "        count+=1\n",
    "print(count)\n",
    "    "
   ]
  }
 ],
 "metadata": {
  "kernelspec": {
   "display_name": "Python 3 (ipykernel)",
   "language": "python",
   "name": "python3"
  },
  "language_info": {
   "codemirror_mode": {
    "name": "ipython",
    "version": 3
   },
   "file_extension": ".py",
   "mimetype": "text/x-python",
   "name": "python",
   "nbconvert_exporter": "python",
   "pygments_lexer": "ipython3",
   "version": "3.11.5"
  }
 },
 "nbformat": 4,
 "nbformat_minor": 5
}
