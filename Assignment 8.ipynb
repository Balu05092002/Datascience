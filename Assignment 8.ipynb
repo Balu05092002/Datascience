{
 "cells": [
  {
   "cell_type": "markdown",
   "id": "34b1f069",
   "metadata": {},
   "source": [
    "1. Convert a list of strings to uppercase\n",
    "\n",
    "words = ['python', 'is', 'awesome']\n",
    "Output: ['PYTHON', 'IS', 'AWESOME']"
   ]
  },
  {
   "cell_type": "code",
   "execution_count": 7,
   "id": "586f3cb9",
   "metadata": {},
   "outputs": [],
   "source": [
    "n = ['python','is','awesome']\n",
    "uppercase=list(map(str.upper,n))"
   ]
  },
  {
   "cell_type": "code",
   "execution_count": 9,
   "id": "9c1fb2fd",
   "metadata": {},
   "outputs": [
    {
     "data": {
      "text/plain": [
       "['PYTHON', 'IS', 'AWESOME']"
      ]
     },
     "execution_count": 9,
     "metadata": {},
     "output_type": "execute_result"
    }
   ],
   "source": [
    "uppercase"
   ]
  },
  {
   "cell_type": "markdown",
   "id": "3f0bc77c",
   "metadata": {},
   "source": [
    "2. Square all numbers in a list\n",
    "\n",
    "numbers = [1, 2, 3, 4]\n",
    "utput: [1, 4, 9, 16]"
   ]
  },
  {
   "cell_type": "code",
   "execution_count": 11,
   "id": "1c2ab8a8",
   "metadata": {},
   "outputs": [],
   "source": [
    "x = [1,2,3,4]\n",
    "square = list(map(lambda i: i**2,x))"
   ]
  },
  {
   "cell_type": "code",
   "execution_count": 13,
   "id": "02df3b0f",
   "metadata": {},
   "outputs": [
    {
     "data": {
      "text/plain": [
       "[1, 4, 9, 16]"
      ]
     },
     "execution_count": 13,
     "metadata": {},
     "output_type": "execute_result"
    }
   ],
   "source": [
    "square"
   ]
  },
  {
   "cell_type": "markdown",
   "id": "728c9b0e",
   "metadata": {},
   "source": [
    "3. Convert a list of integers to strings\n",
    "\n",
    "nums = [1, 2, 3]\n",
    "Output: ['1', '2', '3']"
   ]
  },
  {
   "cell_type": "code",
   "execution_count": 25,
   "id": "6f519db9",
   "metadata": {},
   "outputs": [
    {
     "ename": "TypeError",
     "evalue": "'list' object is not callable",
     "output_type": "error",
     "traceback": [
      "\u001b[1;31m---------------------------------------------------------------------------\u001b[0m",
      "\u001b[1;31mTypeError\u001b[0m                                 Traceback (most recent call last)",
      "Cell \u001b[1;32mIn[25], line 2\u001b[0m\n\u001b[0;32m      1\u001b[0m nums \u001b[38;5;241m=\u001b[39m [\u001b[38;5;241m1\u001b[39m, \u001b[38;5;241m2\u001b[39m, \u001b[38;5;241m3\u001b[39m]\n\u001b[1;32m----> 2\u001b[0m str_nums \u001b[38;5;241m=\u001b[39m \u001b[38;5;28mlist\u001b[39m(\u001b[38;5;28mmap\u001b[39m(\u001b[38;5;28mstr\u001b[39m, nums))\n\u001b[0;32m      3\u001b[0m \u001b[38;5;28mprint\u001b[39m(str_nums)\n",
      "\u001b[1;31mTypeError\u001b[0m: 'list' object is not callable"
     ]
    }
   ],
   "source": [
    "nums = [1, 2, 3]\n",
    "str_nums = list(map(lambda str, nums))\n",
    "print(str_nums)"
   ]
  },
  {
   "cell_type": "markdown",
   "id": "0971cf8d",
   "metadata": {},
   "source": [
    "4. Add 5 to each element in a list\n",
    "marks = [50, 60, 70]\n",
    "Output: [55, 65, 75]"
   ]
  },
  {
   "cell_type": "code",
   "execution_count": 27,
   "id": "f14adc98",
   "metadata": {},
   "outputs": [
    {
     "data": {
      "text/plain": [
       "[55, 65, 75]"
      ]
     },
     "execution_count": 27,
     "metadata": {},
     "output_type": "execute_result"
    }
   ],
   "source": [
    "marks = [50,60,70]\n",
    "updated = list(map(lambda x:x+5,marks))\n",
    "updated"
   ]
  },
  {
   "cell_type": "markdown",
   "id": "a112107b",
   "metadata": {},
   "source": [
    "5. Get lengths of all strings in a list\n",
    "\n",
    "names = ['apple', 'banana', 'kiwi']\n",
    "Output: [5, 6, 4]\n"
   ]
  },
  {
   "cell_type": "code",
   "execution_count": 29,
   "id": "8c4ee83c",
   "metadata": {},
   "outputs": [],
   "source": [
    "names = ['apple','banana','kiwi']\n",
    "n = list(map(lambda i:len(i),names))"
   ]
  },
  {
   "cell_type": "code",
   "execution_count": 31,
   "id": "23fec5db",
   "metadata": {},
   "outputs": [
    {
     "data": {
      "text/plain": [
       "[5, 6, 4]"
      ]
     },
     "execution_count": 31,
     "metadata": {},
     "output_type": "execute_result"
    }
   ],
   "source": [
    "n"
   ]
  },
  {
   "cell_type": "markdown",
   "id": "78ef7f10",
   "metadata": {},
   "source": [
    "1. Filter out even numbers\n",
    "\n",
    "nums = [1, 2, 3, 4, 5, 6]\n",
    "Output: [2, 4, 6]\n"
   ]
  },
  {
   "cell_type": "code",
   "execution_count": 41,
   "id": "7d4b6418",
   "metadata": {},
   "outputs": [],
   "source": [
    "numbers = [1, 2, 3, 4, 5]\n",
    "evens = list(filter(lambda x: x % 2 == 0, numbers))"
   ]
  },
  {
   "cell_type": "code",
   "execution_count": 43,
   "id": "bccb582b",
   "metadata": {},
   "outputs": [
    {
     "data": {
      "text/plain": [
       "[2, 4]"
      ]
     },
     "execution_count": 43,
     "metadata": {},
     "output_type": "execute_result"
    }
   ],
   "source": [
    "evens\n"
   ]
  },
  {
   "cell_type": "markdown",
   "id": "a781a0ac",
   "metadata": {},
   "source": [
    "2. Keep only strings with more than 3 characters\n",
    "\n",
    "words = ['hi', 'hello', 'hey', 'sun']\n",
    "Output: ['hello']\n"
   ]
  },
  {
   "cell_type": "code",
   "execution_count": 49,
   "id": "2e5239f9",
   "metadata": {},
   "outputs": [],
   "source": [
    "words = ['hi', 'hello', 'hey', 'sun']\n",
    "n1 = list(filter(lambda x: len(x)>3,words))"
   ]
  },
  {
   "cell_type": "code",
   "execution_count": 51,
   "id": "86a6a43f",
   "metadata": {},
   "outputs": [
    {
     "data": {
      "text/plain": [
       "['hello']"
      ]
     },
     "execution_count": 51,
     "metadata": {},
     "output_type": "execute_result"
    }
   ],
   "source": [
    "n1\n"
   ]
  },
  {
   "cell_type": "markdown",
   "id": "73cb6833",
   "metadata": {},
   "source": [
    "3. Remove empty strings from a list\n",
    "\n",
    "data = ['Python', '', 'Java', '', 'C++']\n",
    "Output: ['Python', 'Java', 'C++']"
   ]
  },
  {
   "cell_type": "code",
   "execution_count": 56,
   "id": "91b852d1",
   "metadata": {},
   "outputs": [],
   "source": [
    "data = ['Python', '', 'Java', '', 'C++'] \n",
    "n2 = list(filter(None,data))"
   ]
  },
  {
   "cell_type": "code",
   "execution_count": 58,
   "id": "b071f995",
   "metadata": {},
   "outputs": [
    {
     "data": {
      "text/plain": [
       "['Python', 'Java', 'C++']"
      ]
     },
     "execution_count": 58,
     "metadata": {},
     "output_type": "execute_result"
    }
   ],
   "source": [
    "n2"
   ]
  },
  {
   "cell_type": "markdown",
   "id": "0867b97b",
   "metadata": {},
   "source": [
    "4. Get names that start with 'A'\n",
    "names = ['Alice', 'Bob', 'Angela', 'Tom']\n",
    "Output: ['Alice', 'Angela']"
   ]
  },
  {
   "cell_type": "code",
   "execution_count": 61,
   "id": "37bff1ab",
   "metadata": {},
   "outputs": [],
   "source": [
    "names = ['Alice','Bob','Angela','Tom']\n",
    "\n",
    "n3 = list(filter(lambda i:i.startswith('A'),names))"
   ]
  },
  {
   "cell_type": "code",
   "execution_count": 63,
   "id": "5dc6de49",
   "metadata": {},
   "outputs": [
    {
     "data": {
      "text/plain": [
       "['Alice', 'Angela']"
      ]
     },
     "execution_count": 63,
     "metadata": {},
     "output_type": "execute_result"
    }
   ],
   "source": [
    "n3\n"
   ]
  },
  {
   "cell_type": "markdown",
   "id": "47663300",
   "metadata": {},
   "source": [
    "5. Keep truthy values only\n",
    "\n",
    "items = [0, None, 'hello', False, 42, '']\n",
    "Output: ['hello', 42]"
   ]
  },
  {
   "cell_type": "code",
   "execution_count": 64,
   "id": "83c3307a",
   "metadata": {},
   "outputs": [],
   "source": [
    "items = [0, None, 'hello', False, 42, ''] \n",
    "n4 = list(filter(bool,items))"
   ]
  },
  {
   "cell_type": "code",
   "execution_count": 65,
   "id": "91aa00e3",
   "metadata": {},
   "outputs": [
    {
     "data": {
      "text/plain": [
       "['hello', 42]"
      ]
     },
     "execution_count": 65,
     "metadata": {},
     "output_type": "execute_result"
    }
   ],
   "source": [
    "n4"
   ]
  },
  {
   "cell_type": "markdown",
   "id": "fae61dae",
   "metadata": {},
   "source": [
    "1. Sum of all numbers\n",
    "\n",
    "nums = [1, 2, 3, 4]\n",
    "Output: 10\n"
   ]
  },
  {
   "cell_type": "code",
   "execution_count": 74,
   "id": "aa4b6945",
   "metadata": {},
   "outputs": [],
   "source": [
    "nums  =[1,2,3,4]\n",
    "n5 =sum(map(lambda x:x, nums))"
   ]
  },
  {
   "cell_type": "code",
   "execution_count": 75,
   "id": "30fb9822",
   "metadata": {},
   "outputs": [
    {
     "data": {
      "text/plain": [
       "10"
      ]
     },
     "execution_count": 75,
     "metadata": {},
     "output_type": "execute_result"
    }
   ],
   "source": [
    "n5"
   ]
  },
  {
   "cell_type": "markdown",
   "id": "18977398",
   "metadata": {},
   "source": [
    "2. Product of all even numbers\n",
    "nums = [1, 2, 3, 4, 5]\n",
    "Filter even → [2, 4]\n",
    "Reduce → 8"
   ]
  },
  {
   "cell_type": "code",
   "execution_count": 87,
   "id": "21a9ad35",
   "metadata": {},
   "outputs": [],
   "source": [
    "from functools import reduce\n",
    "nums = [1, 2, 3, 4, 5] \n",
    "n1 = list(filter(lambda x:x%2==0,nums))\n",
    "n2 = reduce(lambda x,y:x*y,n1)"
   ]
  },
  {
   "cell_type": "code",
   "execution_count": 89,
   "id": "346c477d",
   "metadata": {},
   "outputs": [
    {
     "data": {
      "text/plain": [
       "8"
      ]
     },
     "execution_count": 89,
     "metadata": {},
     "output_type": "execute_result"
    }
   ],
   "source": [
    "n2"
   ]
  },
  {
   "cell_type": "markdown",
   "id": "5a24f1d3",
   "metadata": {},
   "source": [
    "3. Find the longest word\n",
    "words = ['apple', 'banana', 'kiwi']\n",
    "Output: 'banana'\n"
   ]
  },
  {
   "cell_type": "code",
   "execution_count": 100,
   "id": "ae67648b",
   "metadata": {},
   "outputs": [
    {
     "name": "stdout",
     "output_type": "stream",
     "text": [
      "banana\n"
     ]
    }
   ],
   "source": [
    "words = ['apple', 'banana', 'kiwi']\n",
    "word_lengths = list(map(lambda word: (word, len(word)), words))\n",
    "longest_word = max(word_lengths, key=lambda x: x[1])[0]\n",
    "print(longest_word)\n",
    "                   \n",
    "                                        \n",
    "                                        \n",
    "                                        \n",
    "                                        \n",
    "                                        \n",
    "                                        \n",
    "                                        \n",
    "                                        \n",
    "                                        \n",
    "                                        \n",
    "                                        \n",
    "                                        \n",
    "                                        \n",
    "                                        "
   ]
  },
  {
   "cell_type": "markdown",
   "id": "f32d9886",
   "metadata": {},
   "source": [
    "4. Join list of strings into one sentence\n",
    "words = ['Python', 'is', 'fun']\n",
    "Output: 'Python is fun'"
   ]
  },
  {
   "cell_type": "code",
   "execution_count": 96,
   "id": "82622cb1",
   "metadata": {},
   "outputs": [],
   "source": [
    "words = ['Python', 'is', 'fun'] \n",
    "n1 = reduce(lambda x,y:x+\" \"+y,words)"
   ]
  },
  {
   "cell_type": "code",
   "execution_count": 98,
   "id": "6fe4aed8",
   "metadata": {},
   "outputs": [
    {
     "data": {
      "text/plain": [
       "'Python is fun'"
      ]
     },
     "execution_count": 98,
     "metadata": {},
     "output_type": "execute_result"
    }
   ],
   "source": [
    "n1\n"
   ]
  },
  {
   "cell_type": "markdown",
   "id": "ddcf47b2",
   "metadata": {},
   "source": [
    "\n",
    "5. Create number from digits\n",
    "\n",
    "digits = [1, 2, 3, 4]\n",
    "Output: 1234"
   ]
  },
  {
   "cell_type": "code",
   "execution_count": 101,
   "id": "9d3585e1",
   "metadata": {},
   "outputs": [
    {
     "data": {
      "text/plain": [
       "1234"
      ]
     },
     "execution_count": 101,
     "metadata": {},
     "output_type": "execute_result"
    }
   ],
   "source": [
    "digits =[1,2,3,4]\n",
    "n1= reduce(lambda x,y:x*10+y,digits)\n",
    "n1"
   ]
  }
 ],
 "metadata": {
  "kernelspec": {
   "display_name": "Python 3 (ipykernel)",
   "language": "python",
   "name": "python3"
  },
  "language_info": {
   "codemirror_mode": {
    "name": "ipython",
    "version": 3
   },
   "file_extension": ".py",
   "mimetype": "text/x-python",
   "name": "python",
   "nbconvert_exporter": "python",
   "pygments_lexer": "ipython3",
   "version": "3.11.5"
  }
 },
 "nbformat": 4,
 "nbformat_minor": 5
}
