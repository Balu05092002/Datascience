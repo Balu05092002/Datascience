{
 "cells": [
  {
   "cell_type": "markdown",
   "id": "6d26833a",
   "metadata": {},
   "source": [
    "1.Write a function that takes two numbers and returns their sum."
   ]
  },
  {
   "cell_type": "code",
   "execution_count": 2,
   "id": "c8157498",
   "metadata": {},
   "outputs": [
    {
     "data": {
      "text/plain": [
       "63"
      ]
     },
     "execution_count": 2,
     "metadata": {},
     "output_type": "execute_result"
    }
   ],
   "source": [
    "def add (a,b):\n",
    "    return a+b\n",
    "add(18,45)"
   ]
  },
  {
   "cell_type": "markdown",
   "id": "0a7fc9aa",
   "metadata": {},
   "source": [
    "2.Write a function that takes a string and returns it reversed"
   ]
  },
  {
   "cell_type": "code",
   "execution_count": 5,
   "id": "faa88d1c",
   "metadata": {},
   "outputs": [
    {
     "data": {
      "text/plain": [
       "'tihoR'"
      ]
     },
     "execution_count": 5,
     "metadata": {},
     "output_type": "execute_result"
    }
   ],
   "source": [
    "def rev_string(s):\n",
    "    return s[::-1]\n",
    "rev_string(\"Rohit\")"
   ]
  },
  {
   "cell_type": "markdown",
   "id": "19382d86",
   "metadata": {},
   "source": [
    "3.Write a function that checks if a number is even or odd"
   ]
  },
  {
   "cell_type": "code",
   "execution_count": 14,
   "id": "9ab28405",
   "metadata": {},
   "outputs": [
    {
     "name": "stdout",
     "output_type": "stream",
     "text": [
      "even number\n"
     ]
    }
   ],
   "source": [
    "def num(n):\n",
    "    \n",
    "        if n%2==0:\n",
    "            print(\"even number\")\n",
    "        else:\n",
    "            print(\"odd number\")\n",
    "num(6)"
   ]
  },
  {
   "cell_type": "markdown",
   "id": "58e7a5df",
   "metadata": {},
   "source": [
    "4.Write a function that returns the factorial of a number"
   ]
  },
  {
   "cell_type": "code",
   "execution_count": 16,
   "id": "231f9b4a",
   "metadata": {},
   "outputs": [],
   "source": [
    "def factorial(n):\n",
    "    if n<0:\n",
    "        print(\"factorial number is not exists\")\n",
    "    if n==0 or n==1:\n",
    "        return 1\n",
    "    return n * factorial(n-1)"
   ]
  },
  {
   "cell_type": "code",
   "execution_count": 18,
   "id": "3d276dce",
   "metadata": {},
   "outputs": [
    {
     "data": {
      "text/plain": [
       "120"
      ]
     },
     "execution_count": 18,
     "metadata": {},
     "output_type": "execute_result"
    }
   ],
   "source": [
    "factorial(5)"
   ]
  },
  {
   "cell_type": "markdown",
   "id": "81cd14ed",
   "metadata": {},
   "source": [
    "5.Write a function that takes a list and returns the maximum element"
   ]
  },
  {
   "cell_type": "code",
   "execution_count": null,
   "id": "c0316c35",
   "metadata": {},
   "outputs": [],
   "source": [
    "def test(l):\n",
    "    return l\n",
    "test([1,2,3,4,5])\n",
    "    \n",
    "    "
   ]
  },
  {
   "cell_type": "markdown",
   "id": "2376f7d2",
   "metadata": {},
   "source": [
    "6.Print numbers from 1 to 10 using a for loop."
   ]
  },
  {
   "cell_type": "code",
   "execution_count": 29,
   "id": "d55f62de",
   "metadata": {},
   "outputs": [
    {
     "name": "stdout",
     "output_type": "stream",
     "text": [
      "1\n",
      "2\n",
      "3\n",
      "4\n",
      "5\n",
      "6\n",
      "7\n",
      "8\n",
      "9\n",
      "10\n"
     ]
    }
   ],
   "source": [
    "\n",
    "for i in range(1,11):\n",
    "    print(i)"
   ]
  },
  {
   "cell_type": "markdown",
   "id": "bf78d529",
   "metadata": {},
   "source": [
    "7.Print each character in a string using a for loop"
   ]
  },
  {
   "cell_type": "code",
   "execution_count": 38,
   "id": "0a420294",
   "metadata": {},
   "outputs": [
    {
     "name": "stdout",
     "output_type": "stream",
     "text": [
      "R\n",
      "o\n",
      "h\n",
      "i\n",
      "t\n"
     ]
    }
   ],
   "source": [
    "n1 = \"Rohit\"\n",
    "for char in n1:\n",
    "    print(char)"
   ]
  },
  {
   "cell_type": "markdown",
   "id": "c9c4d336",
   "metadata": {},
   "source": [
    "8.Write a program that sums all numbers in a list using a for loop"
   ]
  },
  {
   "cell_type": "code",
   "execution_count": null,
   "id": "9d3585e1",
   "metadata": {},
   "outputs": [],
   "source": [
    "l =[1,2,3,4,5]\n",
    "total = 0\n",
    "for i in l:\n",
    "    total+=i\n",
    "print(total)"
   ]
  },
  {
   "cell_type": "markdown",
   "id": "933c02a8",
   "metadata": {},
   "source": [
    "9.Print the multiplication table of a given number using a for loop"
   ]
  },
  {
   "cell_type": "code",
   "execution_count": 5,
   "id": "2dd2a446",
   "metadata": {},
   "outputs": [
    {
     "name": "stdout",
     "output_type": "stream",
     "text": [
      "Enter the number5\n",
      "5 x 1 = 5\n",
      "5 x 2 = 10\n",
      "5 x 3 = 15\n",
      "5 x 4 = 20\n",
      "5 x 5 = 25\n",
      "5 x 6 = 30\n",
      "5 x 7 = 35\n",
      "5 x 8 = 40\n",
      "5 x 9 = 45\n",
      "5 x 10 = 50\n"
     ]
    }
   ],
   "source": [
    "n = int(input(\"Enter the number\"))\n",
    "for i in range(1,11):\n",
    "    print(n,\"x\" ,i,\"=\",n*i)\n",
    "    "
   ]
  },
  {
   "cell_type": "markdown",
   "id": "fc0b9a8e",
   "metadata": {},
   "source": [
    "10.Write a program that prints all even numbers from 1 to 50"
   ]
  },
  {
   "cell_type": "code",
   "execution_count": 9,
   "id": "e7f3546d",
   "metadata": {},
   "outputs": [
    {
     "name": "stdout",
     "output_type": "stream",
     "text": [
      "[2, 4, 6, 8, 10, 12, 14, 16, 18, 20, 22, 24, 26, 28, 30, 32, 34, 36, 38, 40, 42, 44, 46, 48, 50]\n"
     ]
    }
   ],
   "source": [
    "l =[]\n",
    "for i in range(1,51):\n",
    "    if i%2==0:\n",
    "        l.append(i)\n",
    "print(l)\n"
   ]
  },
  {
   "cell_type": "markdown",
   "id": "e0c31ef8",
   "metadata": {},
   "source": [
    "11. Print numbers from 1 to 10 using a while loop.\n",
    "\n",
    "12. Keep taking input from the user until they type \"exit\".\n",
    "\n",
    "13. Write a program that finds the sum of digits of a number using a while loop.\n",
    "\n",
    "14. Guess the number game: Keep asking the user until they guess the correct number.\n",
    "\n",
    "15. Print the Fibonacci sequence up to n terms using a while loop.\n",
    "\n",
    "16. Write a function that takes variable number of arguments using *args and returns their sum.\n",
    "\n",
    "17. Write a program that unpacks a list into separate variables using *.\n",
    "\n",
    "nums = [1, 2, 3, 4, 5]\n",
    "a, *b = nums  # Try printing a and b\n",
    "\n",
    "18. Create a function that multiplies a number with itself n times using * (e.g., 2 * 3 = 6).\n",
    "\n",
    "19. Use * to combine two lists into one:\n",
    "\n",
    "a = [1, 2]\n",
    "b = [3, 4]\n",
    "\n",
    "combined = [*a, *b]\n",
    "\n",
    "20. Write a function that checks whether a string is a palindrome.\n",
    "\n"
   ]
  },
  {
   "cell_type": "markdown",
   "id": "bd43dbca",
   "metadata": {},
   "source": [
    "11. Print numbers from 1 to 10 using a while loop."
   ]
  },
  {
   "cell_type": "code",
   "execution_count": 1,
   "id": "1f2f577a",
   "metadata": {},
   "outputs": [
    {
     "name": "stdout",
     "output_type": "stream",
     "text": [
      "1\n",
      "2\n",
      "3\n",
      "4\n",
      "5\n",
      "6\n",
      "7\n",
      "8\n",
      "9\n",
      "10\n"
     ]
    }
   ],
   "source": [
    "i =1\n",
    "while i<11:\n",
    "    print(i)\n",
    "    i=i+1"
   ]
  },
  {
   "cell_type": "markdown",
   "id": "7885f35d",
   "metadata": {},
   "source": [
    "12.Keep taking input from the user until they type \"exit\"."
   ]
  },
  {
   "cell_type": "code",
   "execution_count": null,
   "id": "4057b70c",
   "metadata": {},
   "outputs": [],
   "source": [
    "i =1\n",
    "while i>0:\n",
    "    a=(\"Input:\").lower()\n",
    "    if a == \"Exit\":\n",
    "        break"
   ]
  },
  {
   "cell_type": "markdown",
   "id": "f9d66520",
   "metadata": {},
   "source": [
    "13.Write a program that finds the sum of digits of a number using a while loop."
   ]
  },
  {
   "cell_type": "code",
   "execution_count": null,
   "id": "e92204eb",
   "metadata": {},
   "outputs": [],
   "source": [
    "num = int(input(\"Enter a number: \"))\n",
    "\n",
    "\n",
    "sum_of_digits = 0\n",
    "\n",
    "\n",
    "while num > 0:\n",
    "    digit = num % 10      \n",
    "    sum_of_digits += digit  \n",
    "    num //= 10              \n",
    "\n",
    "print(\"Sum of digits:\", sum_of_digits)"
   ]
  },
  {
   "cell_type": "markdown",
   "id": "fd4898a0",
   "metadata": {},
   "source": [
    "14.Guess the number game: Keep asking the user until they guess the correct number."
   ]
  },
  {
   "cell_type": "code",
   "execution_count": 4,
   "id": "8cad49a7",
   "metadata": {},
   "outputs": [
    {
     "name": "stdout",
     "output_type": "stream",
     "text": [
      "Guess the Number :22\n",
      "Guess the Number :12\n",
      "Your Guess Number is Correct\n"
     ]
    }
   ],
   "source": [
    "correct_number=12\n",
    "i=1\n",
    "while i>0:\n",
    "    guess=int(input(\"Guess the Number :\"))\n",
    "    if guess==correct_number:\n",
    "        print(\"Your Guess Number is Correct\")\n",
    "        break"
   ]
  },
  {
   "cell_type": "markdown",
   "id": "5c430d3c",
   "metadata": {},
   "source": [
    "15. Print the Fibonacci sequence up to n terms using a while loop."
   ]
  },
  {
   "cell_type": "code",
   "execution_count": 5,
   "id": "1b3731ea",
   "metadata": {},
   "outputs": [
    {
     "name": "stdout",
     "output_type": "stream",
     "text": [
      "Enter the number of Fibonacci terms you want: 3\n",
      "Fibonacci Sequence:\n",
      "[0, 1, 1]\n"
     ]
    }
   ],
   "source": [
    "def fibonacci(n):\n",
    "    list1 = [0, 1]\n",
    "    i=2\n",
    "    while i<n:\n",
    "        a = list1[i-1] + list1[i-2]\n",
    "        list1.append(a)\n",
    "        i=i+1\n",
    "    return list1\n",
    "n = int(input(\"Enter the number of Fibonacci terms you want: \"))\n",
    "list1 = fibonacci(n)\n",
    "\n",
    "print(\"Fibonacci Sequence:\")\n",
    "print(list1)"
   ]
  },
  {
   "cell_type": "markdown",
   "id": "aedb19de",
   "metadata": {},
   "source": [
    "16. Write a function that takes variable number of arguments using *args and returns their sum"
   ]
  },
  {
   "cell_type": "code",
   "execution_count": 6,
   "id": "b879c11d",
   "metadata": {},
   "outputs": [
    {
     "name": "stdout",
     "output_type": "stream",
     "text": [
      "22\n"
     ]
    }
   ],
   "source": [
    "def func(*args):\n",
    "    sum1=0\n",
    "    for i in args:\n",
    "        sum1=sum1+i\n",
    "    print(sum1)\n",
    "\n",
    "func(1,2,4,5,3,7)\n"
   ]
  },
  {
   "cell_type": "markdown",
   "id": "83dd6be3",
   "metadata": {},
   "source": [
    "17. Write a program that unpacks a list into separate variables using *.\n"
   ]
  },
  {
   "cell_type": "code",
   "execution_count": 7,
   "id": "0c6ed29f",
   "metadata": {},
   "outputs": [
    {
     "name": "stdout",
     "output_type": "stream",
     "text": [
      "1\n",
      "[2, 3, 4, 5]\n"
     ]
    }
   ],
   "source": [
    "nums = [1,2,3,4,5]\n",
    "a, *b =nums\n",
    "print(a)\n",
    "print(b)"
   ]
  },
  {
   "cell_type": "markdown",
   "id": "480e100e",
   "metadata": {},
   "source": [
    "18. Create a function that multiplies a number with itself n times using * (e.g., 2 * 3 = 6)."
   ]
  },
  {
   "cell_type": "code",
   "execution_count": 8,
   "id": "50cac77f",
   "metadata": {},
   "outputs": [
    {
     "data": {
      "text/plain": [
       "6"
      ]
     },
     "execution_count": 8,
     "metadata": {},
     "output_type": "execute_result"
    }
   ],
   "source": [
    "def multi(num, n):\n",
    "    m = num * n\n",
    "    return m\n",
    "\n",
    "multi(2,3)"
   ]
  },
  {
   "cell_type": "markdown",
   "id": "456761e3",
   "metadata": {},
   "source": [
    "19. Use * to combine two lists into one:\n",
    "\n",
    "a = [1, 2]\n",
    "b = [3, 4]\n",
    "\n",
    "combined = [*a, *b]"
   ]
  },
  {
   "cell_type": "code",
   "execution_count": 9,
   "id": "781b4e1a",
   "metadata": {},
   "outputs": [
    {
     "data": {
      "text/plain": [
       "[1, 2, 3, 4]"
      ]
     },
     "execution_count": 9,
     "metadata": {},
     "output_type": "execute_result"
    }
   ],
   "source": [
    "a = [1,2]\n",
    "b = [3,4]\n",
    "combined = [*a,*b]\n",
    "\n",
    "combined"
   ]
  },
  {
   "cell_type": "markdown",
   "id": "020ccff9",
   "metadata": {},
   "source": [
    "20. Write a function that checks whether a string is a palindrome."
   ]
  },
  {
   "cell_type": "code",
   "execution_count": 10,
   "id": "7ed79555",
   "metadata": {},
   "outputs": [
    {
     "name": "stdout",
     "output_type": "stream",
     "text": [
      "Input:12\n",
      "False\n"
     ]
    }
   ],
   "source": [
    "def palin(n):\n",
    "    \n",
    "    str2=n[::-1]\n",
    "    if str2==n:\n",
    "        print(True)\n",
    "    else:\n",
    "      print(False)\n",
    "    \n",
    "n=input(\"Input:\")\n",
    "palin(n)"
   ]
  },
  {
   "cell_type": "markdown",
   "id": "5d32f34e",
   "metadata": {},
   "source": [
    "21. Write a function that returns the number of vowels in a given string."
   ]
  },
  {
   "cell_type": "code",
   "execution_count": 20,
   "id": "d4e0bc74",
   "metadata": {},
   "outputs": [
    {
     "name": "stdout",
     "output_type": "stream",
     "text": [
      "Enter a Stringvirat\n"
     ]
    },
    {
     "data": {
      "text/plain": [
       "2"
      ]
     },
     "execution_count": 20,
     "metadata": {},
     "output_type": "execute_result"
    }
   ],
   "source": [
    "def count_vowels(s):\n",
    "    list1=list(s)\n",
    "    list2=['a','e','i','o','u']\n",
    "    count1=0\n",
    "    for i in list1:\n",
    "        if i in list2:\n",
    "            count1=count1+1\n",
    "    return count1\n",
    "s=input(\"Enter a String\").lower()\n",
    "count_vowels(s)"
   ]
  },
  {
   "cell_type": "markdown",
   "id": "1cdddc90",
   "metadata": {},
   "source": [
    "22. Write a function that takes a list of numbers and returns only the even numbers."
   ]
  },
  {
   "cell_type": "code",
   "execution_count": 19,
   "id": "9ebb8db6",
   "metadata": {},
   "outputs": [
    {
     "name": "stdout",
     "output_type": "stream",
     "text": [
      "Number of values to Add:1\n",
      "Enter 1 Value :1\n",
      "Even Numbers :\n"
     ]
    },
    {
     "ename": "NameError",
     "evalue": "name 'lit1' is not defined",
     "output_type": "error",
     "traceback": [
      "\u001b[1;31m---------------------------------------------------------------------------\u001b[0m",
      "\u001b[1;31mNameError\u001b[0m                                 Traceback (most recent call last)",
      "Cell \u001b[1;32mIn[19], line 11\u001b[0m\n\u001b[0;32m      8\u001b[0m     \u001b[38;5;28;01mif\u001b[39;00m i\u001b[38;5;241m%\u001b[39m\u001b[38;5;241m2\u001b[39m\u001b[38;5;241m==\u001b[39m\u001b[38;5;241m0\u001b[39m:\n\u001b[0;32m      9\u001b[0m         \u001b[38;5;28mprint\u001b[39m(i)\n\u001b[1;32m---> 11\u001b[0m lit1()\n",
      "\u001b[1;31mNameError\u001b[0m: name 'lit1' is not defined"
     ]
    }
   ],
   "source": [
    "    n=int(input(\"Number of values to Add:\"))\n",
    "    list2=[]\n",
    "    for i in range(1,n+1):\n",
    "        a=int(input(f\"Enter {i} Value :\"))\n",
    "        list2.append(a)\n",
    "    print(\"Even Numbers :\")\n",
    "    for i in list2:\n",
    "        if i%2==0:\n",
    "            print(i)\n",
    "            \n",
    "lit1()\n"
   ]
  },
  {
   "cell_type": "markdown",
   "id": "3560d3f1",
   "metadata": {},
   "source": [
    "23. Write a function that converts Celsius to Fahrenheit."
   ]
  },
  {
   "cell_type": "code",
   "execution_count": 18,
   "id": "1fcf298e",
   "metadata": {},
   "outputs": [
    {
     "name": "stdout",
     "output_type": "stream",
     "text": [
      "Celsius :32\n"
     ]
    },
    {
     "data": {
      "text/plain": [
       "89.6"
      ]
     },
     "execution_count": 18,
     "metadata": {},
     "output_type": "execute_result"
    }
   ],
   "source": [
    "def funct(n):\n",
    "    fahren=float((n * 9/5) + 32)\n",
    "    return fahren\n",
    "n=float(input(\"Celsius :\"))\n",
    "funct(n)"
   ]
  },
  {
   "cell_type": "markdown",
   "id": "c323e2a9",
   "metadata": {},
   "source": [
    "24. Write a function that takes a string and returns the number of words in it."
   ]
  },
  {
   "cell_type": "code",
   "execution_count": 17,
   "id": "4414c48d",
   "metadata": {},
   "outputs": [
    {
     "name": "stdout",
     "output_type": "stream",
     "text": [
      "String :rohit\n",
      "Total Number of Words :4\n"
     ]
    }
   ],
   "source": [
    "str1=input(\"String :\").lower()\n",
    "count=0\n",
    "list1=[ 'a',' b', 'c', 'd', 'e', 'f', 'g', 'h', 'i', 'j',' k', 'l', 'm', 'n',' o',' p', 'q', 'r', 's', 't', 'u', 'v',' w', 'x', 'y' ,' z']\n",
    "for i in str1:\n",
    "    if i in list1:\n",
    "        count=count+1\n",
    "print(f\"Total Number of Words :{count}\")"
   ]
  },
  {
   "cell_type": "markdown",
   "id": "a6b4feef",
   "metadata": {},
   "source": [
    "25. Write a function that uses *args and prints all values line by line with their index."
   ]
  },
  {
   "cell_type": "code",
   "execution_count": 30,
   "id": "d5d61dbc",
   "metadata": {},
   "outputs": [
    {
     "name": "stdout",
     "output_type": "stream",
     "text": [
      "0 : apple\n",
      "1 : banana\n",
      "2 : orange\n"
     ]
    }
   ],
   "source": [
    "def args_with_index(*args):\n",
    "    for index, value in enumerate(args):\n",
    "        print(index, \":\" ,value)\n",
    "args_with_index(\"apple\" , \"banana\",\"orange\")"
   ]
  },
  {
   "cell_type": "markdown",
   "id": "b64c8ce4",
   "metadata": {},
   "source": [
    "26. Write a function that takes *args and returns their average."
   ]
  },
  {
   "cell_type": "code",
   "execution_count": 15,
   "id": "58f650b0",
   "metadata": {},
   "outputs": [
    {
     "name": "stdout",
     "output_type": "stream",
     "text": [
      "25.0\n"
     ]
    }
   ],
   "source": [
    "def avg(*args):\n",
    "    sum1=sum(args)\n",
    "    length=len(args)\n",
    "    print(sum1/length)\n",
    "avg(10,20,30,40)"
   ]
  },
  {
   "cell_type": "markdown",
   "id": "4b433691",
   "metadata": {},
   "source": [
    "27. Keep asking the user to enter a positive number. Stop when they enter a negative number."
   ]
  },
  {
   "cell_type": "code",
   "execution_count": 14,
   "id": "cd360ef3",
   "metadata": {},
   "outputs": [
    {
     "name": "stdout",
     "output_type": "stream",
     "text": [
      "Enter Positive Numbers:22\n",
      "Enter Positive Numbers:12\n",
      "Enter Positive Numbers:123\n",
      "Enter Positive Numbers:-12\n",
      "Stop\n"
     ]
    }
   ],
   "source": [
    "i=1\n",
    "while i>0:\n",
    "    n=int(input(\"Enter Positive Numbers:\"))\n",
    "    if n<0:\n",
    "        print(\"Stop\")\n",
    "        break"
   ]
  },
  {
   "cell_type": "markdown",
   "id": "e3cdbbcf",
   "metadata": {},
   "source": [
    "28. Write a program to reverse a number using a while loop."
   ]
  },
  {
   "cell_type": "code",
   "execution_count": 13,
   "id": "231f6b1d",
   "metadata": {},
   "outputs": [
    {
     "name": "stdout",
     "output_type": "stream",
     "text": [
      "Input Number :12\n",
      "21"
     ]
    }
   ],
   "source": [
    "n=int(input(\"Input Number :\"))\n",
    "s=str(n)\n",
    "i=len(s)-1\n",
    "while i>=0:\n",
    "    print(s[i],end=\"\")\n",
    "    i=i-1\n",
    "    "
   ]
  },
  {
   "cell_type": "markdown",
   "id": "9a33b7ec",
   "metadata": {},
   "source": [
    "29. Find the first number divisible by both 3 and 5 greater than 100 using while."
   ]
  },
  {
   "cell_type": "code",
   "execution_count": 12,
   "id": "ab1db4a9",
   "metadata": {},
   "outputs": [
    {
     "name": "stdout",
     "output_type": "stream",
     "text": [
      "105\n"
     ]
    }
   ],
   "source": [
    "i=101\n",
    "while i>100:\n",
    "    if i%3==0 and i%5==0:\n",
    "        print(i)\n",
    "        break\n",
    "    i=i+1"
   ]
  },
  {
   "cell_type": "markdown",
   "id": "96a5d61b",
   "metadata": {},
   "source": [
    "30. Use a while loop to check if a number is a prime."
   ]
  },
  {
   "cell_type": "code",
   "execution_count": 21,
   "id": "763e174c",
   "metadata": {},
   "outputs": [
    {
     "name": "stdout",
     "output_type": "stream",
     "text": [
      "Enter a number:12\n"
     ]
    },
    {
     "data": {
      "text/plain": [
       "'False'"
      ]
     },
     "execution_count": 21,
     "metadata": {},
     "output_type": "execute_result"
    }
   ],
   "source": [
    "def is_prime(n):\n",
    "    c = 0\n",
    "    if n==0:\n",
    "        return 1\n",
    "    for i in range(1,n+1):\n",
    "        if n%i == 0:\n",
    "            c = c+1\n",
    "    if c == 2:\n",
    "        return \"True\"\n",
    "    else:\n",
    "        return \"False\"\n",
    "n=int(input(\"Enter a number:\"))\n",
    "is_prime(n)"
   ]
  },
  {
   "cell_type": "markdown",
   "id": "95a1fef0",
   "metadata": {},
   "source": [
    "31. Create a countdown timer using while, e.g., from 10 to 1"
   ]
  },
  {
   "cell_type": "code",
   "execution_count": 26,
   "id": "03a84c38",
   "metadata": {},
   "outputs": [
    {
     "name": "stdout",
     "output_type": "stream",
     "text": [
      "Enter number: 22\n",
      "22\n",
      "21\n",
      "20\n",
      "19\n",
      "18\n",
      "17\n",
      "16\n",
      "15\n",
      "14\n",
      "13\n",
      "12\n",
      "11\n",
      "10\n",
      "9\n",
      "8\n",
      "7\n",
      "6\n",
      "5\n",
      "4\n",
      "3\n",
      "2\n",
      "1\n"
     ]
    }
   ],
   "source": [
    "def countdown(n):\n",
    "    i = n\n",
    "    while(i>0):\n",
    "        print(i)\n",
    "        i=i-1\n",
    "n= int(input(\"Enter number: \"))\n",
    "countdown(n)"
   ]
  },
  {
   "cell_type": "markdown",
   "id": "5f8092de",
   "metadata": {},
   "source": [
    "32. Print all elements in a nested list"
   ]
  },
  {
   "cell_type": "code",
   "execution_count": 25,
   "id": "c6bb9846",
   "metadata": {},
   "outputs": [
    {
     "name": "stdout",
     "output_type": "stream",
     "text": [
      "4\n",
      "5\n",
      "6\n"
     ]
    }
   ],
   "source": [
    "l = [1,2,3,[4,5,6]]\n",
    "\n",
    "for i in l:\n",
    "    if type(i) == list:\n",
    "        for j in i :\n",
    "            print(j)"
   ]
  },
  {
   "cell_type": "markdown",
   "id": "24a623f3",
   "metadata": {},
   "source": [
    "33. Count how many times each character appears in a string."
   ]
  },
  {
   "cell_type": "code",
   "execution_count": 24,
   "id": "b6cba65b",
   "metadata": {},
   "outputs": [
    {
     "name": "stdout",
     "output_type": "stream",
     "text": [
      "Enter string : virat\n"
     ]
    },
    {
     "data": {
      "text/plain": [
       "{'v': 1, 'i': 1, 'r': 1, 'a': 1, 't': 1}"
      ]
     },
     "execution_count": 24,
     "metadata": {},
     "output_type": "execute_result"
    }
   ],
   "source": [
    "def count_characters(s):\n",
    "    char_count = {}\n",
    "    for char in s:\n",
    "        if char in char_count:\n",
    "            char_count[char] += 1\n",
    "        else:\n",
    "            char_count[char] = 1\n",
    "    return char_count\n",
    "s = input(\"Enter string : \")\n",
    "count_characters(s)"
   ]
  },
  {
   "cell_type": "markdown",
   "id": "23871aa1",
   "metadata": {},
   "source": [
    "34. Use a for loop to find the largest number in a list without using max()."
   ]
  },
  {
   "cell_type": "code",
   "execution_count": 23,
   "id": "a6531df6",
   "metadata": {},
   "outputs": [
    {
     "name": "stdout",
     "output_type": "stream",
     "text": [
      "10\n"
     ]
    }
   ],
   "source": [
    "list1=[1,3,5,7,2,4,10]\n",
    "largest=list1[0]\n",
    "for i in list1:\n",
    "    if i>largest:\n",
    "        largest=i\n",
    "print(largest)\n"
   ]
  },
  {
   "cell_type": "markdown",
   "id": "58882346",
   "metadata": {},
   "source": [
    "35. Create a list of squares for numbers from 1 to 10 using a loop"
   ]
  },
  {
   "cell_type": "code",
   "execution_count": 22,
   "id": "cc5c0d89",
   "metadata": {},
   "outputs": [
    {
     "name": "stdout",
     "output_type": "stream",
     "text": [
      "[1, 4, 9, 16, 25, 36, 49, 64, 81, 100]\n"
     ]
    }
   ],
   "source": [
    "list1=[]\n",
    "for i in range(1,11):\n",
    "    a=i*i\n",
    "    list1.append(a)\n",
    "print(list1)\n",
    "    "
   ]
  }
 ],
 "metadata": {
  "kernelspec": {
   "display_name": "Python 3 (ipykernel)",
   "language": "python",
   "name": "python3"
  },
  "language_info": {
   "codemirror_mode": {
    "name": "ipython",
    "version": 3
   },
   "file_extension": ".py",
   "mimetype": "text/x-python",
   "name": "python",
   "nbconvert_exporter": "python",
   "pygments_lexer": "ipython3",
   "version": "3.11.5"
  }
 },
 "nbformat": 4,
 "nbformat_minor": 5
}
