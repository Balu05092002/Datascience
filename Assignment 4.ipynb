{
 "cells": [
  {
   "cell_type": "markdown",
   "id": "0513d2d2",
   "metadata": {},
   "source": [
    "1. Write a program that takes a number as input and prints \"Even\" if it's an even number, and \"Odd\" if it's an odd number.\n",
    "\n",
    "Expected Input:\n",
    "Enter a number: 7\n"
   ]
  },
  {
   "cell_type": "code",
   "execution_count": 2,
   "id": "d34e6caa",
   "metadata": {},
   "outputs": [
    {
     "name": "stdout",
     "output_type": "stream",
     "text": [
      "Enter a value7\n",
      "it is odd number\n"
     ]
    }
   ],
   "source": [
    "n  = int(input(\"Enter a value\"))\n",
    "if n%2==0:\n",
    "    print(\"it is even number\")\n",
    "else:\n",
    "    print(\"it is odd number\")"
   ]
  },
  {
   "cell_type": "markdown",
   "id": "1143b22f",
   "metadata": {},
   "source": [
    "2: Write a program that takes two numbers as input and prints the larger number.\n",
    "Expected Input:\n",
    "Enter the first number: 15\n",
    "Enter the second number: 22"
   ]
  },
  {
   "cell_type": "code",
   "execution_count": 5,
   "id": "9075d1ff",
   "metadata": {},
   "outputs": [
    {
     "name": "stdout",
     "output_type": "stream",
     "text": [
      "Enter value1 15\n",
      "Enter value2 22\n",
      "value 2 is greater\n"
     ]
    }
   ],
   "source": [
    "n1= int(input(\"Enter value1 \"))\n",
    "n2= int(input(\"Enter value2 \"))\n",
    "if n1>n2:\n",
    "    print(\"value 1 is greater\")\n",
    "else:\n",
    "    print(\"value 2 is greater\")"
   ]
  },
  {
   "cell_type": "markdown",
   "id": "c63d5de9",
   "metadata": {},
   "source": [
    "3: Write a program that takes a character as input and prints \"Vowel\" if it's a vowel (a, e, i, o, u), and \"Consonant\" otherwise.\n",
    "Expected Input:\n",
    "Enter a character: a"
   ]
  },
  {
   "cell_type": "code",
   "execution_count": 18,
   "id": "28851436",
   "metadata": {},
   "outputs": [
    {
     "name": "stdout",
     "output_type": "stream",
     "text": [
      "Enter a character A\n",
      "it is vowel\n"
     ]
    }
   ],
   "source": [
    "x = input(\"Enter a character \")\n",
    "vowel = ['a','e','i','o','u']\n",
    "y=x.lower()\n",
    "if y in vowel:\n",
    "    print(\"it is vowel\")\n",
    "else:\n",
    "    print(\"it is consonant\")\n",
    "                "
   ]
  },
  {
   "cell_type": "markdown",
   "id": "a55ed3be",
   "metadata": {},
   "source": [
    "4: Write a program that takes a year as input and prints \"Leap Year\" if it's a leap year, and \"Not a Leap Year\" otherwise.\n",
    "Expected Input:\n",
    "Enter a year: 2024"
   ]
  },
  {
   "cell_type": "code",
   "execution_count": 23,
   "id": "cf63dec8",
   "metadata": {},
   "outputs": [
    {
     "name": "stdout",
     "output_type": "stream",
     "text": [
      "Enter the year2023\n",
      "it is not a leap year\n"
     ]
    }
   ],
   "source": [
    "p = int(input(\"Enter the year\"))\n",
    "\n",
    "if p%4==0 or p%400==0:\n",
    "    print(\"it is leap year\")\n",
    "else:\n",
    "    print(\"it is not a leap year\")\n"
   ]
  },
  {
   "cell_type": "markdown",
   "id": "33be7927",
   "metadata": {},
   "source": [
    "5: Write a program that takes a grade as input (A, B, C, D, or F) and prints \"Pass\" if it's A, B, C, or D, and \"Fail\" if it's F.\n",
    "Expected Input:\n",
    "Enter your grade: C\n",
    "\n",
    "Expected Output:\n",
    "Pass\n"
   ]
  },
  {
   "cell_type": "code",
   "execution_count": 29,
   "id": "a0cd1d11",
   "metadata": {},
   "outputs": [
    {
     "name": "stdout",
     "output_type": "stream",
     "text": [
      "Enter the gradec\n",
      "you are pass\n"
     ]
    }
   ],
   "source": [
    "z = input(\"Enter the grade\")\n",
    "l1= [\"A\",\"B\",\"C\",\"D\"]\n",
    "l2 =[\"F\"]\n",
    "r=z.upper()\n",
    "if r in l1:\n",
    "    print(\"you are pass\")\n",
    "elif r in l2:\n",
    "    print(\"you are fail\")\n",
    "else:\n",
    "    print(\"Not Determined\")"
   ]
  },
  {
   "cell_type": "markdown",
   "id": "fc87f1b8",
   "metadata": {},
   "source": [
    "1. Number Comparison\n",
    "Write a program to check if a number entered by the user is positive, negative, or zero"
   ]
  },
  {
   "cell_type": "code",
   "execution_count": 31,
   "id": "016c1f5b",
   "metadata": {},
   "outputs": [
    {
     "name": "stdout",
     "output_type": "stream",
     "text": [
      "Enter the value-1\n",
      "It is neagative number\n"
     ]
    }
   ],
   "source": [
    "n = int(input(\"Enter the value\"))\n",
    "if n>0:\n",
    "    print(\"It is positive number\")\n",
    "elif n<0:\n",
    "    print(\"It is neagative number\")\n",
    "else:\n",
    "    print(\"It is zero\")"
   ]
  },
  {
   "cell_type": "markdown",
   "id": "25c6f589",
   "metadata": {},
   "source": [
    "2. Leap Year Checker\n",
    "Write a program to determine whether a given year is a leap year or not.\n"
   ]
  },
  {
   "cell_type": "code",
   "execution_count": 33,
   "id": "90c329a2",
   "metadata": {},
   "outputs": [
    {
     "name": "stdout",
     "output_type": "stream",
     "text": [
      "Enter the year2024\n",
      "it is leap year\n"
     ]
    }
   ],
   "source": [
    "p = int(input(\"Enter the year\"))\n",
    "\n",
    "if p%4==0 or p%400==0:\n",
    "    print(\"it is leap year\")\n",
    "else:\n",
    "    print(\"it is not a leap year\")\n"
   ]
  },
  {
   "cell_type": "markdown",
   "id": "673d7ade",
   "metadata": {},
   "source": [
    "3. Age Eligibility\n",
    "Write a program that asks for a user's age and determines if they are eligible to vote (18 years and older).\n"
   ]
  },
  {
   "cell_type": "code",
   "execution_count": 35,
   "id": "ef71b3ac",
   "metadata": {},
   "outputs": [
    {
     "name": "stdout",
     "output_type": "stream",
     "text": [
      "Enter the age18\n",
      "you are eligible for voting\n"
     ]
    }
   ],
   "source": [
    "n1 = int(input(\"Enter the age\"))\n",
    "if n1>=18:\n",
    "    print(\"you are eligible for voting\")\n",
    "else:\n",
    "    print(\"you are not eligible\")"
   ]
  },
  {
   "cell_type": "markdown",
   "id": "8d05cb6b",
   "metadata": {},
   "source": [
    "4. Grading System\n",
    "Write a program that takes a student's marks as input and displays their grade based on the following criteria:\n",
    "\n",
    "90 and above: A\n",
    "75–89: B\n",
    "50–74: C\n",
    "Below 50: F"
   ]
  },
  {
   "cell_type": "code",
   "execution_count": 38,
   "id": "cd05469a",
   "metadata": {},
   "outputs": [
    {
     "name": "stdout",
     "output_type": "stream",
     "text": [
      "enter the marks84\n",
      "your grade is B\n"
     ]
    }
   ],
   "source": [
    "n = int(input(\"enter the marks\"))\n",
    "if n>=90:\n",
    "    print(\"your grade is A\")\n",
    "elif n>=75 or n<=89:\n",
    "    print(\"your grade is B\")\n",
    "elif n>=50 or n<=74:\n",
    "    print(\"your grade is C\")\n",
    "else:\n",
    "    print(\"your grade is F\")\n"
   ]
  },
  {
   "cell_type": "markdown",
   "id": "ed221b17",
   "metadata": {},
   "source": [
    "5. Write a program to check whether a number entered by the user is even or odd.\n"
   ]
  },
  {
   "cell_type": "code",
   "execution_count": 41,
   "id": "1bf8ee90",
   "metadata": {},
   "outputs": [
    {
     "name": "stdout",
     "output_type": "stream",
     "text": [
      "Enter the value 6\n",
      "it is even number\n"
     ]
    }
   ],
   "source": [
    "n1 = int(input(\"Enter the value \"))\n",
    "if n1%2==0:\n",
    "    print(\"it is even number\")\n",
    "else:\n",
    "    print(\"it is odd number\")\n",
    "    "
   ]
  },
  {
   "cell_type": "markdown",
   "id": "91c5064a",
   "metadata": {},
   "source": [
    "6. Maximum of Three Numbers\n",
    "Write a program that takes three numbers as input and determines the largest of the three.\n"
   ]
  },
  {
   "cell_type": "code",
   "execution_count": 43,
   "id": "f14029ec",
   "metadata": {},
   "outputs": [
    {
     "name": "stdout",
     "output_type": "stream",
     "text": [
      "enter value 1 18\n",
      "enter value 2 45\n",
      "enter value 3 7\n",
      "value 2 is greater\n"
     ]
    }
   ],
   "source": [
    "n1 = int(input(\"enter value 1 \"))\n",
    "n2 = int(input(\"enter value 2 \"))\n",
    "n3 = int(input(\"enter value 3 \"))\n",
    "if n1>n2 and n1>n3:\n",
    "    print(\"value 1 is greater\")\n",
    "elif n2>n1 and n2>n3:\n",
    "    print(\"value 2 is greater\")\n",
    "else:\n",
    "    print(\"value 3 is greater\")\n"
   ]
  },
  {
   "cell_type": "markdown",
   "id": "3330cc17",
   "metadata": {},
   "source": [
    "7. Password Validation\n",
    "Write a program that asks the user to enter a password and checks if it matches a predefined password. If it matches, print \"Access Granted\"; otherwise, print \"Access Denied.\"\n"
   ]
  },
  {
   "cell_type": "code",
   "execution_count": null,
   "id": "314c49f6",
   "metadata": {},
   "outputs": [],
   "source": [
    "n = input(\"Enter the password\")\n",
    "password = \"Balu05092002\"\n",
    "if n==password:\n",
    "    print(\"Access Granted\")\n",
    "else:\n",
    "    print(\"Access Denied\")"
   ]
  },
  {
   "cell_type": "markdown",
   "id": "79ca00af",
   "metadata": {},
   "source": []
  },
  {
   "cell_type": "code",
   "execution_count": 11,
   "id": "b3af7c90",
   "metadata": {},
   "outputs": [
    {
     "name": "stdout",
     "output_type": "stream",
     "text": [
      "Enter the the total the purchase 1300\n",
      "discount Amount 130.0\n",
      "Total amount after discount 1170.0\n"
     ]
    }
   ],
   "source": [
    "n = float(input(\"Enter the the total the purchase \"))\n",
    "\n",
    "if n>1000:\n",
    "    Discount = n * 0.10\n",
    "    final_amount= n - Discount\n",
    "    print(\"discount Amount\",Discount)\n",
    "    print(\"Total amount after discount\",final_amount)\n",
    "else:\n",
    "    print(\"Discount not applicable\")"
   ]
  },
  {
   "cell_type": "markdown",
   "id": "3ffd76c8",
   "metadata": {},
   "source": [
    "9. Triangle Type Checker\n",
    "Write a program that takes the lengths of three sides of a triangle and determines if it is:\n",
    "\n",
    "Equilateral (all sides are equal),\n",
    "Isosceles (two sides are equal), or\n",
    "Scalene (no sides are equal)."
   ]
  },
  {
   "cell_type": "code",
   "execution_count": 15,
   "id": "1db0745f",
   "metadata": {},
   "outputs": [
    {
     "name": "stdout",
     "output_type": "stream",
     "text": [
      "length of side 1 2\n",
      "length of side 2 3\n",
      "length of side 3 2\n",
      "it is isosceles triangle\n"
     ]
    }
   ],
   "source": [
    "n1 = int(input(\"length of side 1 \"))\n",
    "n2 = int(input(\"length of side 2 \"))\n",
    "n3 = int(input(\"length of side 3 \"))\n",
    "if n1==n2==n3:\n",
    "    print(\"it is equilateral triangle\")\n",
    "elif n1==n2 or n2==n3 or n3==n1:\n",
    "    print(\"it is isosceles triangle\")\n",
    "else:\n",
    "    print(\"it is scalene\")"
   ]
  },
  {
   "cell_type": "markdown",
   "id": "f33a1f66",
   "metadata": {},
   "source": [
    "10. Divisibility Check\n",
    "\n",
    "Write a program to check if a number entered by the user is divisible by 5 and 11 or not."
   ]
  },
  {
   "cell_type": "code",
   "execution_count": 20,
   "id": "9328192d",
   "metadata": {},
   "outputs": [
    {
     "name": "stdout",
     "output_type": "stream",
     "text": [
      "Enter the value5555\n",
      "it is divisible by 5 and 11\n"
     ]
    }
   ],
   "source": [
    "n = int(input(\"Enter the value\"))\n",
    "if n%5==0 and n%11==0:\n",
    "    print(\"it is divisible by 5 and 11\")\n",
    "else:\n",
    "    print(\"it is not divisible\")"
   ]
  },
  {
   "cell_type": "markdown",
   "id": "85cc6fdc",
   "metadata": {},
   "source": [
    "11. Attendance Eligibility\n",
    "A student is allowed to take the exam if their attendance is 75% or higher. Write a program to ask the student for their total classes and attended classes, calculate attendance, and determine their eligibility.\n"
   ]
  },
  {
   "cell_type": "code",
   "execution_count": 4,
   "id": "5a6d44b7",
   "metadata": {},
   "outputs": [
    {
     "name": "stdout",
     "output_type": "stream",
     "text": [
      "enter the Total classes 100\n",
      "enter the Attended classes 75\n",
      "your are eligible to exams\n"
     ]
    }
   ],
   "source": [
    "total_classes = int(input(\"enter the Total classes \"))\n",
    "attended_classes = int(input(\"enter the Attended classes \"))\n",
    "e=attended_classes/total_classes*100\n",
    "if e>=75:\n",
    "    print(\"your are eligible to exams\")\n",
    "else:\n",
    "    print(\"your are not eligible\")"
   ]
  },
  {
   "cell_type": "markdown",
   "id": "34617f34",
   "metadata": {},
   "source": [
    "12. Temperature Advice\n",
    "Write a program that asks the user for the current temperature and provides advice:\n",
    "\n",
    "Above 30°C: \"It's hot outside. Stay hydrated.\"\n",
    "Between 15°C and 30°C: \"The weather is pleasant.\"\n",
    "Below 15°C: \"It's cold outside. Wear a jacket.\""
   ]
  },
  {
   "cell_type": "code",
   "execution_count": 7,
   "id": "a0d406fe",
   "metadata": {},
   "outputs": [
    {
     "name": "stdout",
     "output_type": "stream",
     "text": [
      "current temperature is 10\n",
      "its cold outside wear jacket\n"
     ]
    }
   ],
   "source": [
    "n = int(input(\"current temperature is \"))\n",
    "if n>30:\n",
    "    print(\"Its hot outside stay hydrated\")\n",
    "elif n>=15 and n<=30:\n",
    "    print(\"The weather is pleasant\")\n",
    "else:\n",
    "    print(\"its cold outside wear jacket\")\n"
   ]
  },
  {
   "cell_type": "markdown",
   "id": "009d716f",
   "metadata": {},
   "source": [
    "13. Number Range Check\n",
    "Write a program to check if a number lies in the range of 1 to 100 (inclusive)."
   ]
  },
  {
   "cell_type": "code",
   "execution_count": 10,
   "id": "cd229ed8",
   "metadata": {},
   "outputs": [
    {
     "name": "stdout",
     "output_type": "stream",
     "text": [
      "Enter the value101\n",
      "IT NOT LIES\n"
     ]
    }
   ],
   "source": [
    "n= int(input(\"Enter the value\"))\n",
    "if n>=1 and n<=100:\n",
    "    print(\"it lies b/w 1 to 100\")\n",
    "else:\n",
    "    print('IT NOT LIES')"
   ]
  },
  {
   "cell_type": "markdown",
   "id": "023f27a7",
   "metadata": {},
   "source": [
    "14. Simple Calculator\n",
    "Write a program that takes two numbers and an operator (+, -, *, /) as input and performs the corresponding operation. If the operator is invalid, print an error message.\n"
   ]
  },
  {
   "cell_type": "code",
   "execution_count": 3,
   "id": "707c61d9",
   "metadata": {},
   "outputs": [
    {
     "name": "stdout",
     "output_type": "stream",
     "text": [
      "Enter number 1 2\n",
      "Enter number 2 2\n",
      "Enter operater(+,-,*,/)+\n",
      "4\n"
     ]
    }
   ],
   "source": [
    "a= int(input(\"Enter number 1 \"))\n",
    "b =int(input(\"Enter number 2 \"))\n",
    "operator = input(\"Enter operater(+,-,*,/)\")\n",
    "if operator=='+':\n",
    "    print(a+b)\n",
    "elif operator=='-':\n",
    "    print(a-b)\n",
    "elif operator=='*':\n",
    "    print(a*b)\n",
    "else:\n",
    "    print(a/b)\n"
   ]
  },
  {
   "cell_type": "markdown",
   "id": "f60303de",
   "metadata": {},
   "source": [
    "15. Odd or Even Year\n",
    "Write a program to determine whether a given year is odd or even."
   ]
  },
  {
   "cell_type": "code",
   "execution_count": 4,
   "id": "787de885",
   "metadata": {},
   "outputs": [
    {
     "name": "stdout",
     "output_type": "stream",
     "text": [
      "Enter a value2\n",
      "it is even number\n"
     ]
    }
   ],
   "source": [
    "n  = int(input(\"Enter a value\"))\n",
    "if n%2==0:\n",
    "    print(\"it is even number\")\n",
    "else:\n",
    "    print(\"it is odd number\")"
   ]
  }
 ],
 "metadata": {
  "kernelspec": {
   "display_name": "Python 3 (ipykernel)",
   "language": "python",
   "name": "python3"
  },
  "language_info": {
   "codemirror_mode": {
    "name": "ipython",
    "version": 3
   },
   "file_extension": ".py",
   "mimetype": "text/x-python",
   "name": "python",
   "nbconvert_exporter": "python",
   "pygments_lexer": "ipython3",
   "version": "3.11.5"
  }
 },
 "nbformat": 4,
 "nbformat_minor": 5
}
