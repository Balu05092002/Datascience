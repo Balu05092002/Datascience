{
 "cells": [
  {
   "cell_type": "markdown",
   "id": "53218578",
   "metadata": {},
   "source": [
    "1. Print Numbers from 1 to 10\n",
    "\n",
    "Expected Output: 1 2 3 ... 10"
   ]
  },
  {
   "cell_type": "code",
   "execution_count": 1,
   "id": "0ba3004e",
   "metadata": {},
   "outputs": [
    {
     "name": "stdout",
     "output_type": "stream",
     "text": [
      "1 2 3 4 5 6 7 8 9 10 "
     ]
    }
   ],
   "source": [
    "i =1\n",
    "while i<=10:\n",
    "    print(i,end =\" \")\n",
    "    i+=1"
   ]
  },
  {
   "cell_type": "markdown",
   "id": "414c3ae4",
   "metadata": {},
   "source": [
    "2. Sum of Numbers from 1 to N\n",
    "\n",
    "Input: 5\n",
    "Expected Output: 15 (1+2+3+4+5)\n"
   ]
  },
  {
   "cell_type": "code",
   "execution_count": 3,
   "id": "ef72379a",
   "metadata": {},
   "outputs": [
    {
     "name": "stdout",
     "output_type": "stream",
     "text": [
      "Sum from 1 to 5 is: 15\n"
     ]
    }
   ],
   "source": [
    "\n",
    "N =5\n",
    "\n",
    "\n",
    "sum = 0\n",
    "i = 1\n",
    "\n",
    "\n",
    "while i <= N:\n",
    "    sum += i\n",
    "    i += 1\n",
    "\n",
    "\n",
    "print(\"Sum from 1 to\", N, \"is:\", sum)"
   ]
  },
  {
   "cell_type": "markdown",
   "id": "f8bb7eeb",
   "metadata": {},
   "source": [
    "3. Print Even Numbers up to N\n",
    "Input: 10\n",
    "Expected Output: 2 4 6 8 10\n"
   ]
  },
  {
   "cell_type": "code",
   "execution_count": 5,
   "id": "b09fa17e",
   "metadata": {},
   "outputs": [
    {
     "name": "stdout",
     "output_type": "stream",
     "text": [
      "enter the number10\n",
      "2  \n",
      "4  \n",
      "6  \n",
      "8  \n",
      "10  \n"
     ]
    }
   ],
   "source": [
    "n = int (input(\"enter the number\"))\n",
    "i=2\n",
    "while i<=n:\n",
    "    print(i,\" \")\n",
    "    i+=2\n",
    "\n",
    "        \n"
   ]
  },
  {
   "cell_type": "markdown",
   "id": "d71ea807",
   "metadata": {},
   "source": [
    "4. Count Digits in a Number\n",
    "\n",
    "Input: 12345\n",
    "Expected Output: 5\n"
   ]
  },
  {
   "cell_type": "markdown",
   "id": "4e72401d",
   "metadata": {},
   "source": [
    "n=int(input(\"Enter a number\"))\n",
    "count = 0\n",
    "if n == 0:\n",
    "    count=1\n",
    "else:\n",
    "    count = 0\n",
    "while n!=0:\n",
    "    n=n//10\n",
    "    count+=1\n",
    "print(count)"
   ]
  },
  {
   "cell_type": "markdown",
   "id": "e7bce505",
   "metadata": {},
   "source": [
    "5.Reverse a Number\n",
    "Input: 1234\n",
    "Output: 4321\n"
   ]
  },
  {
   "cell_type": "code",
   "execution_count": 15,
   "id": "09142086",
   "metadata": {},
   "outputs": [
    {
     "name": "stdout",
     "output_type": "stream",
     "text": [
      "Enter the number12345\n",
      "54321\n"
     ]
    }
   ],
   "source": [
    "n = int(input(\"Enter the number\"))\n",
    "rev=0\n",
    "while n!=0:\n",
    "    digit = n%10\n",
    "    rev = rev*10+digit\n",
    "    n = n//10\n",
    "print(rev)"
   ]
  },
  {
   "cell_type": "markdown",
   "id": "b4b09dae",
   "metadata": {},
   "source": [
    "6. Check if a Number is a Palindrome\n",
    "Input: 121\n",
    "Output: True\n",
    "\n"
   ]
  },
  {
   "cell_type": "code",
   "execution_count": 21,
   "id": "ab9a72c5",
   "metadata": {},
   "outputs": [
    {
     "name": "stdout",
     "output_type": "stream",
     "text": [
      "Enter the number121\n",
      "it is palindrome\n"
     ]
    }
   ],
   "source": [
    "n = int(input(\"Enter the number\"))\n",
    "n1 = n\n",
    "rev = 0\n",
    "while n!=0:\n",
    "    d = n%10\n",
    "    rev = rev*10+d\n",
    "    n=n//10\n",
    "if n1 == rev:\n",
    "    print(\"it is palindrome\")\n",
    "else:\n",
    "    print(\"it is not palindrome\")"
   ]
  },
  {
   "cell_type": "markdown",
   "id": "45d26341",
   "metadata": {},
   "source": [
    "Function to Add Two Numbers\n",
    "\n",
    "1. def add(a, b):\n"
   ]
  },
  {
   "cell_type": "code",
   "execution_count": 26,
   "id": "2ee5e7b9",
   "metadata": {},
   "outputs": [],
   "source": [
    "a =18\n",
    "b=45\n",
    "c=7"
   ]
  },
  {
   "cell_type": "code",
   "execution_count": 27,
   "id": "91e5a3a8",
   "metadata": {},
   "outputs": [
    {
     "data": {
      "text/plain": [
       "63"
      ]
     },
     "execution_count": 27,
     "metadata": {},
     "output_type": "execute_result"
    }
   ],
   "source": [
    "def add(a,b):\n",
    "    return(a+b)\n",
    "add(a,b)"
   ]
  },
  {
   "cell_type": "markdown",
   "id": "37d8cacc",
   "metadata": {},
   "source": [
    "2. def max_of_three(a, b, c):"
   ]
  },
  {
   "cell_type": "code",
   "execution_count": 31,
   "id": "cd8e7844",
   "metadata": {},
   "outputs": [
    {
     "data": {
      "text/plain": [
       "45"
      ]
     },
     "execution_count": 31,
     "metadata": {},
     "output_type": "execute_result"
    }
   ],
   "source": [
    "def max(a,b,c):\n",
    "    if a>b and  a>c:\n",
    "        return a\n",
    "    elif b>a and b>c:\n",
    "        return b\n",
    "    else:\n",
    "        return\n",
    "    "
   ]
  },
  {
   "cell_type": "markdown",
   "id": "3eb91aa3",
   "metadata": {},
   "source": [
    "\n",
    "3. def is_prime(n):\n",
    "\n"
   ]
  },
  {
   "cell_type": "code",
   "execution_count": 16,
   "id": "86698a70",
   "metadata": {},
   "outputs": [
    {
     "name": "stdout",
     "output_type": "stream",
     "text": [
      "True\n"
     ]
    }
   ],
   "source": [
    "def is_prime(n):\n",
    "    if n <= 1:\n",
    "        return False\n",
    "\n",
    "    for i in range(2, n):\n",
    "        if n % i == 0:\n",
    "            return False\n",
    "    return True\n",
    "print(is_prime(13))"
   ]
  },
  {
   "cell_type": "markdown",
   "id": "c2e8480a",
   "metadata": {},
   "source": [
    "4. Function to Calculate Factorial\n",
    "\n",
    "def factorial(n):"
   ]
  },
  {
   "cell_type": "code",
   "execution_count": 32,
   "id": "e3993169",
   "metadata": {},
   "outputs": [],
   "source": [
    "n=5"
   ]
  },
  {
   "cell_type": "code",
   "execution_count": 41,
   "id": "0f306138",
   "metadata": {},
   "outputs": [
    {
     "data": {
      "text/plain": [
       "120"
      ]
     },
     "execution_count": 41,
     "metadata": {},
     "output_type": "execute_result"
    }
   ],
   "source": [
    "def factorial(n):\n",
    "    result = 1\n",
    "    while n>1:\n",
    "        result *=n\n",
    "        n -=1\n",
    "    return result\n",
    "factorial(n)\n"
   ]
  },
  {
   "cell_type": "markdown",
   "id": "a0cac39b",
   "metadata": {},
   "source": [
    "5.Function to Print Fibonacci Series up to N terms\n",
    "\n",
    "def fibonacci(n):\n"
   ]
  },
  {
   "cell_type": "code",
   "execution_count": 50,
   "id": "6dde9218",
   "metadata": {},
   "outputs": [],
   "source": [
    "n=10"
   ]
  },
  {
   "cell_type": "markdown",
   "id": "476f10e9",
   "metadata": {},
   "source": [
    "def fibonacci(n):\n",
    "    a=0\n",
    "    b=1\n",
    "    count=0\n",
    "    while count<n:\n",
    "        temp = a+b\n",
    "        a=b\n",
    "        b=temp\n",
    "        count+=1\n",
    "    return count\n",
    "fibonacci(n)"
   ]
  },
  {
   "cell_type": "markdown",
   "id": "f4d5f6fe",
   "metadata": {},
   "source": [
    "6.Function to Count Vowels in a String\n",
    "def count_vowels(s):"
   ]
  },
  {
   "cell_type": "code",
   "execution_count": 55,
   "id": "a4f34146",
   "metadata": {},
   "outputs": [],
   "source": [
    "s= \"Rohit sharma\""
   ]
  },
  {
   "cell_type": "code",
   "execution_count": 57,
   "id": "63aa719e",
   "metadata": {},
   "outputs": [
    {
     "data": {
      "text/plain": [
       "4"
      ]
     },
     "execution_count": 57,
     "metadata": {},
     "output_type": "execute_result"
    }
   ],
   "source": [
    "def count_vowels(s):\n",
    "    vowels =\"aeiouAEIOU\"\n",
    "    count = 0\n",
    "    for char in s:\n",
    "        if char in vowels:\n",
    "            count+=1\n",
    "    return count\n",
    "    \n",
    "count_vowels(s)\n",
    "            "
   ]
  }
 ],
 "metadata": {
  "kernelspec": {
   "display_name": "Python 3 (ipykernel)",
   "language": "python",
   "name": "python3"
  },
  "language_info": {
   "codemirror_mode": {
    "name": "ipython",
    "version": 3
   },
   "file_extension": ".py",
   "mimetype": "text/x-python",
   "name": "python",
   "nbconvert_exporter": "python",
   "pygments_lexer": "ipython3",
   "version": "3.11.5"
  }
 },
 "nbformat": 4,
 "nbformat_minor": 5
}
