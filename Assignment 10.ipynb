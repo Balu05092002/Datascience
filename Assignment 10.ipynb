{
 "cells": [
  {
   "cell_type": "markdown",
   "id": "ce91d137",
   "metadata": {},
   "source": [
    "1. Create a variable `name` and assign your name to it. Print a greeting message using the variable."
   ]
  },
  {
   "cell_type": "code",
   "execution_count": 2,
   "id": "ed6611c5",
   "metadata": {},
   "outputs": [
    {
     "name": "stdout",
     "output_type": "stream",
     "text": [
      "Hi, This is Balu\n"
     ]
    }
   ],
   "source": [
    "def greet(name):\n",
    "    print(f\"Hi, This is {name}\")\n",
    "greet(\"Balu\")"
   ]
  },
  {
   "cell_type": "markdown",
   "id": "b4abe26e",
   "metadata": {},
   "source": [
    "2. Convert the string `\"42\"` to an integer and assign it to a variable `num`. Print the value and type of `num`."
   ]
  },
  {
   "cell_type": "code",
   "execution_count": 4,
   "id": "37aa70aa",
   "metadata": {},
   "outputs": [
    {
     "data": {
      "text/plain": [
       "42"
      ]
     },
     "execution_count": 4,
     "metadata": {},
     "output_type": "execute_result"
    }
   ],
   "source": [
    "def value(a):\n",
    "    n = int(a)\n",
    "    return n\n",
    "value(\"42\")"
   ]
  },
  {
   "cell_type": "markdown",
   "id": "df524962",
   "metadata": {},
   "source": [
    "3. Define a tuple with three elements: `\"cat\"`, `\"dog\"`, and `\"rabbit\"`. Print the third element."
   ]
  },
  {
   "cell_type": "code",
   "execution_count": 9,
   "id": "686346e2",
   "metadata": {},
   "outputs": [
    {
     "data": {
      "text/plain": [
       "'rabbit'"
      ]
     },
     "execution_count": 9,
     "metadata": {},
     "output_type": "execute_result"
    }
   ],
   "source": [
    "def three(t):\n",
    "    return t[-1]\n",
    "three((\"cat\",\"dog\",\"rabbit\"))"
   ]
  },
  {
   "cell_type": "markdown",
   "id": "52202128",
   "metadata": {},
   "source": [
    "4. Swap the values of two variables, `a` and `b`, without using a temporary variable."
   ]
  },
  {
   "cell_type": "code",
   "execution_count": 10,
   "id": "ce88f87d",
   "metadata": {},
   "outputs": [
    {
     "data": {
      "text/plain": [
       "(20, 10)"
      ]
     },
     "execution_count": 10,
     "metadata": {},
     "output_type": "execute_result"
    }
   ],
   "source": [
    "def swap_values(a,b):\n",
    "    a = a+b\n",
    "    b = a-b\n",
    "    a = a-b\n",
    "    \n",
    "    return a,b\n",
    "swap_values(10,20)"
   ]
  },
  {
   "cell_type": "markdown",
   "id": "d089aeee",
   "metadata": {},
   "source": [
    "5. Write a program that takes your age as input and prints a message: `\"Y"
   ]
  },
  {
   "cell_type": "code",
   "execution_count": 11,
   "id": "b76909ef",
   "metadata": {},
   "outputs": [
    {
     "name": "stdout",
     "output_type": "stream",
     "text": [
      "Enter your age: 22\n",
      "You are 22 years old\n"
     ]
    }
   ],
   "source": [
    "def Your_age(age):\n",
    "    print(f\"You are {age} years old\")\n",
    "age = int(input(\"Enter your age: \"))\n",
    "Your_age(age)"
   ]
  },
  {
   "cell_type": "markdown",
   "id": "1079728a",
   "metadata": {},
   "source": [
    "6. Calculate the product of two numbers entered by the user and print the result."
   ]
  },
  {
   "cell_type": "code",
   "execution_count": 14,
   "id": "f717b7ad",
   "metadata": {},
   "outputs": [
    {
     "name": "stdout",
     "output_type": "stream",
     "text": [
      "Enter a value: 2\n",
      "Enter b value: 3\n"
     ]
    },
    {
     "data": {
      "text/plain": [
       "6"
      ]
     },
     "execution_count": 14,
     "metadata": {},
     "output_type": "execute_result"
    }
   ],
   "source": [
    "def multiplication(a,b):\n",
    "    return a*b\n",
    "a=int(input(\"Enter a value: \"))\n",
    "b=int(input(\"Enter b value: \"))\n",
    "multiplication(a,b)"
   ]
  },
  {
   "cell_type": "markdown",
   "id": "eabdb4ce",
   "metadata": {},
   "source": [
    "7. Format the variables `item = \"book\"` and `price = 25.99` into a sentence."
   ]
  },
  {
   "cell_type": "code",
   "execution_count": 15,
   "id": "6f96a498",
   "metadata": {},
   "outputs": [
    {
     "name": "stdout",
     "output_type": "stream",
     "text": [
      "The book price is 25.99\n"
     ]
    }
   ],
   "source": [
    "def format(item,price):\n",
    "    print(f\"The {item} price is {price}\")\n",
    "format(item = \"book\", price = 25.99)"
   ]
  },
  {
   "cell_type": "markdown",
   "id": "07268962",
   "metadata": {},
   "source": [
    "8. Write a function that takes an integer as input and returns `\"Positive\"`, `\"Negative\"`, or `\"Zero\"`."
   ]
  },
  {
   "cell_type": "code",
   "execution_count": 16,
   "id": "3ea09489",
   "metadata": {},
   "outputs": [
    {
     "name": "stdout",
     "output_type": "stream",
     "text": [
      "Enter integer: 2\n"
     ]
    },
    {
     "data": {
      "text/plain": [
       "'Positive'"
      ]
     },
     "execution_count": 16,
     "metadata": {},
     "output_type": "execute_result"
    }
   ],
   "source": [
    "def integer_check(n):\n",
    "    if n > 0:\n",
    "        return \"Positive\"\n",
    "    elif n < 0:\n",
    "        return \"negative\"\n",
    "    else:\n",
    "        return \"Zero\"\n",
    "a = int(input(\"Enter integer: \"))\n",
    "integer_check(a)"
   ]
  },
  {
   "cell_type": "markdown",
   "id": "01f06af0",
   "metadata": {},
   "source": [
    "9. Create a program that checks if a user-input number is even or odd.\n"
   ]
  },
  {
   "cell_type": "code",
   "execution_count": 17,
   "id": "20307a15",
   "metadata": {},
   "outputs": [
    {
     "name": "stdout",
     "output_type": "stream",
     "text": [
      "Enter a number: 2\n"
     ]
    },
    {
     "data": {
      "text/plain": [
       "'Even'"
      ]
     },
     "execution_count": 17,
     "metadata": {},
     "output_type": "execute_result"
    }
   ],
   "source": [
    "def check_even_odd(n):\n",
    "    if n%2==0:\n",
    "        return \"Even\"\n",
    "    else:\n",
    "        return \"Odd\"\n",
    "\n",
    "b=int(input(\"Enter a number: \"))\n",
    "check_even_odd(b)"
   ]
  },
  {
   "cell_type": "markdown",
   "id": "d8f012bb",
   "metadata": {},
   "source": [
    "10. Write a program that determines if a year entered by the user is a leap year."
   ]
  },
  {
   "cell_type": "code",
   "execution_count": 20,
   "id": "cefb34f5",
   "metadata": {},
   "outputs": [
    {
     "name": "stdout",
     "output_type": "stream",
     "text": [
      "Enter Year : 2023\n"
     ]
    },
    {
     "data": {
      "text/plain": [
       "'Not Leap Year'"
      ]
     },
     "execution_count": 20,
     "metadata": {},
     "output_type": "execute_result"
    }
   ],
   "source": [
    "def leap_year_check(year):\n",
    "    if (year%4==0 and year%100!=0) or year%400==0:\n",
    "        return \"Leap Year\"\n",
    "    else:\n",
    "        return \"Not Leap Year\"\n",
    "year = int(input(\"Enter Year : \"))\n",
    "leap_year_check(year)"
   ]
  },
  {
   "cell_type": "markdown",
   "id": "d530098d",
   "metadata": {},
   "source": [
    "11. Print the numbers from 1 to 5 using a `for` loop."
   ]
  },
  {
   "cell_type": "code",
   "execution_count": 22,
   "id": "2e8ce9fc",
   "metadata": {},
   "outputs": [
    {
     "name": "stdout",
     "output_type": "stream",
     "text": [
      "1 2 3 4 5 "
     ]
    }
   ],
   "source": [
    "for i in range(1,6):\n",
    "    print(i, end =\" \")"
   ]
  },
  {
   "cell_type": "markdown",
   "id": "060a1f10",
   "metadata": {},
   "source": [
    "12. Write a `while` loop that calculates the sum of numbers from 1 to 20."
   ]
  },
  {
   "cell_type": "code",
   "execution_count": 23,
   "id": "2175b773",
   "metadata": {},
   "outputs": [
    {
     "name": "stdout",
     "output_type": "stream",
     "text": [
      "210\n"
     ]
    }
   ],
   "source": [
    "i=1\n",
    "sum = 0\n",
    "while i<=20:\n",
    "    sum = sum+i\n",
    "    i = i+1\n",
    "print(sum)"
   ]
  },
  {
   "cell_type": "markdown",
   "id": "39f11798",
   "metadata": {},
   "source": [
    "13. Print each character of the string `\"Hello\"` using a loop."
   ]
  },
  {
   "cell_type": "code",
   "execution_count": 24,
   "id": "d87624b0",
   "metadata": {},
   "outputs": [
    {
     "name": "stdout",
     "output_type": "stream",
     "text": [
      "H\n",
      "e\n",
      "l\n",
      "l\n",
      "o\n"
     ]
    }
   ],
   "source": [
    "n = \"Hello\"\n",
    "for i in n:\n",
    "    print(i)"
   ]
  },
  {
   "cell_type": "markdown",
   "id": "4db24385",
   "metadata": {},
   "source": [
    "14. Create a list of your favorite fruits and print the second fruit on the list."
   ]
  },
  {
   "cell_type": "code",
   "execution_count": 25,
   "id": "78c72b61",
   "metadata": {},
   "outputs": [
    {
     "name": "stdout",
     "output_type": "stream",
     "text": [
      "orange\n"
     ]
    }
   ],
   "source": [
    "l = [\"apple\",\"Bananan\",\"orange\"]\n",
    "print(l[2])"
   ]
  },
  {
   "cell_type": "markdown",
   "id": "00231e25",
   "metadata": {},
   "source": [
    "15. Add the number 7 to a set. Add the number 7 again and observe the set's behavior."
   ]
  },
  {
   "cell_type": "code",
   "execution_count": 31,
   "id": "d1a2404c",
   "metadata": {},
   "outputs": [
    {
     "data": {
      "text/plain": [
       "{1, 2, 3, 4, 5, 6, 7}"
      ]
     },
     "execution_count": 31,
     "metadata": {},
     "output_type": "execute_result"
    }
   ],
   "source": [
    "s = {1,2,3,4,5,6}\n",
    "s.add(7)\n",
    "s"
   ]
  },
  {
   "cell_type": "markdown",
   "id": "3027b5a6",
   "metadata": {},
   "source": [
    "16. Write a function that takes a list as input and returns a new list without duplicate elements."
   ]
  },
  {
   "cell_type": "code",
   "execution_count": 32,
   "id": "09699a82",
   "metadata": {},
   "outputs": [
    {
     "name": "stdout",
     "output_type": "stream",
     "text": [
      "[1, 2, 3, 4, 5, 'nithin', 'balu']\n"
     ]
    }
   ],
   "source": [
    "def fun(li):\n",
    "    l = set(li)\n",
    "    li = list(l)\n",
    "    return li\n",
    "li = [1,2,3,4,5,\"nithin\",\"balu\", 2 ,\"nithin\"]\n",
    "res = fun(li)\n",
    "print(res)"
   ]
  },
  {
   "cell_type": "markdown",
   "id": "6ebe5d41",
   "metadata": {},
   "source": [
    "Create a tuple containing your birth year, birth month, and birth day."
   ]
  },
  {
   "cell_type": "code",
   "execution_count": 35,
   "id": "fe92fd5d",
   "metadata": {},
   "outputs": [
    {
     "data": {
      "text/plain": [
       "(2002, 'sep', 5)"
      ]
     },
     "execution_count": 35,
     "metadata": {},
     "output_type": "execute_result"
    }
   ],
   "source": [
    "t = (2002,\"sep\",5)\n",
    "t"
   ]
  },
  {
   "cell_type": "markdown",
   "id": "f6dfe78e",
   "metadata": {},
   "source": [
    "18. Define a function `calculate_average` that takes a list of numbers as input and returns their average.\n"
   ]
  },
  {
   "cell_type": "code",
   "execution_count": 39,
   "id": "36c0b7c4",
   "metadata": {},
   "outputs": [
    {
     "data": {
      "text/plain": [
       "2.0"
      ]
     },
     "execution_count": 39,
     "metadata": {},
     "output_type": "execute_result"
    }
   ],
   "source": [
    "def calculate_average(a,b,c):\n",
    "    return (a+b+c)/3\n",
    "calculate_average(1,2,3)"
   ]
  },
  {
   "cell_type": "markdown",
   "id": "936e1b04",
   "metadata": {},
   "source": [
    "19. Write a function `power` that takes two arguments, `base` and `exponent`, and calculates `base`"
   ]
  },
  {
   "cell_type": "code",
   "execution_count": 40,
   "id": "cfcd70a6",
   "metadata": {},
   "outputs": [
    {
     "data": {
      "text/plain": [
       "8"
      ]
     },
     "execution_count": 40,
     "metadata": {},
     "output_type": "execute_result"
    }
   ],
   "source": [
    "def power(base,exponent):\n",
    "    return base ** exponent\n",
    "power(2,3)"
   ]
  },
  {
   "cell_type": "markdown",
   "id": "82aa0823",
   "metadata": {},
   "source": [
    "20. Define a function that takes any number of strings as arguments and returns them concatenated."
   ]
  },
  {
   "cell_type": "code",
   "execution_count": 42,
   "id": "92288a6b",
   "metadata": {},
   "outputs": [
    {
     "data": {
      "text/plain": [
       "'rohit'"
      ]
     },
     "execution_count": 42,
     "metadata": {},
     "output_type": "execute_result"
    }
   ],
   "source": [
    "def test(n1,n2,n3):\n",
    "    return n1+n2+n3\n",
    "test(\"ro\",\"hi\",\"t\")\n",
    "    "
   ]
  },
  {
   "cell_type": "markdown",
   "id": "819789b9",
   "metadata": {},
   "source": [
    "21. Check if the word `\"apple\"` is present in the string `\"I like apples and oranges\"`.\n"
   ]
  },
  {
   "cell_type": "code",
   "execution_count": 43,
   "id": "bd750b08",
   "metadata": {},
   "outputs": [
    {
     "name": "stdout",
     "output_type": "stream",
     "text": [
      "True\n"
     ]
    }
   ],
   "source": [
    "str = \"I like apples and oranges\"\n",
    "if \"apple\" in str:\n",
    "    print(\"True\")\n",
    "else:\n",
    "    print(\"False\")"
   ]
  },
  {
   "cell_type": "markdown",
   "id": "1e45fd4e",
   "metadata": {},
   "source": [
    "22. Count the occurrences of the letter `\"i\"` in the string `\"Mississippi\"`.\n"
   ]
  },
  {
   "cell_type": "code",
   "execution_count": 44,
   "id": "47a033b3",
   "metadata": {},
   "outputs": [
    {
     "data": {
      "text/plain": [
       "4"
      ]
     },
     "execution_count": 44,
     "metadata": {},
     "output_type": "execute_result"
    }
   ],
   "source": [
    "def occurences(s):\n",
    "    c = 0\n",
    "    for i in s:\n",
    "        if i == 'i':\n",
    "            c = c+1\n",
    "    return c\n",
    "str = \"Mississippi\"\n",
    "occurences(str)"
   ]
  },
  {
   "cell_type": "markdown",
   "id": "d0f1a8a9",
   "metadata": {},
   "source": [
    "23. Reverse the string `\"Python\"` using slicing.\n"
   ]
  },
  {
   "cell_type": "code",
   "execution_count": 47,
   "id": "d541adb0",
   "metadata": {},
   "outputs": [
    {
     "data": {
      "text/plain": [
       "'nohtyp'"
      ]
     },
     "execution_count": 47,
     "metadata": {},
     "output_type": "execute_result"
    }
   ],
   "source": [
    "n = \"python\"\n",
    "n[::-1]\n"
   ]
  },
  {
   "cell_type": "markdown",
   "id": "c28c96e6",
   "metadata": {},
   "source": [
    "\n",
    "24. Create a dictionary representing a car with keys `\"make\"`, `\"model\"`, and `\"year\"`. Print the car's model.\n"
   ]
  },
  {
   "cell_type": "code",
   "execution_count": 49,
   "id": "75788848",
   "metadata": {},
   "outputs": [
    {
     "data": {
      "text/plain": [
       "'v5'"
      ]
     },
     "execution_count": 49,
     "metadata": {},
     "output_type": "execute_result"
    }
   ],
   "source": [
    "d = {\"make\":\"BMW\", \"model\":\"v5\", \"year\":2002}\n",
    "d[\"model\"]\n"
   ]
  },
  {
   "cell_type": "markdown",
   "id": "ab594e20",
   "metadata": {},
   "source": [
    "25. Add a new car to the dictionary, modify the year of an existing car, and retrieve the make of a specific car"
   ]
  },
  {
   "cell_type": "code",
   "execution_count": 51,
   "id": "69daf900",
   "metadata": {},
   "outputs": [],
   "source": [
    "cars = {\n",
    "    \"car1\": {\"make\": \"Audi\", \"model\": \"Q5\", \"year\": 2024}\n",
    "}\n",
    "\n",
    "cars[\"car2\"] = {\"make\": \"BMW\", \"model\": \"X5\", \"year\": 2023}"
   ]
  },
  {
   "cell_type": "code",
   "execution_count": 53,
   "id": "b2a411fc",
   "metadata": {},
   "outputs": [
    {
     "name": "stdout",
     "output_type": "stream",
     "text": [
      "X5\n"
     ]
    }
   ],
   "source": [
    "print(cars[\"car2\"][\"model\"])"
   ]
  }
 ],
 "metadata": {
  "kernelspec": {
   "display_name": "Python 3 (ipykernel)",
   "language": "python",
   "name": "python3"
  },
  "language_info": {
   "codemirror_mode": {
    "name": "ipython",
    "version": 3
   },
   "file_extension": ".py",
   "mimetype": "text/x-python",
   "name": "python",
   "nbconvert_exporter": "python",
   "pygments_lexer": "ipython3",
   "version": "3.11.5"
  }
 },
 "nbformat": 4,
 "nbformat_minor": 5
}
