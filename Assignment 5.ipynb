{
 "cells": [
  {
   "cell_type": "raw",
   "id": "4c02fd6d",
   "metadata": {},
   "source": [
    "1:\n",
    "ineruon \n",
    "ineruon ineruon \n",
    "ineruon ineruon ineruon\n",
    "ineruon ineruon ineruon ineruon\n"
   ]
  },
  {
   "cell_type": "code",
   "execution_count": 4,
   "id": "fd9632e4",
   "metadata": {},
   "outputs": [
    {
     "name": "stdout",
     "output_type": "stream",
     "text": [
      "ineroun  \n",
      "\n",
      "ineroun  ineroun  \n",
      "\n",
      "ineroun  ineroun  ineroun  \n",
      "\n",
      "ineroun  ineroun  ineroun  ineroun  \n",
      "\n"
     ]
    }
   ],
   "source": [
    "n =4\n",
    "for i in range(4):\n",
    "    for j in range(0, i+1):\n",
    "        print(\"ineroun \",end=\" \")\n",
    "    print(\"\\n\")"
   ]
  },
  {
   "cell_type": "raw",
   "id": "9efe4de7",
   "metadata": {},
   "source": [
    "  2.\n",
    "          ineruon\n",
    "    ineruon      ineruon\n",
    "ineruon\t\tineruon \tineruon\n",
    "\tineruon\t\t ineruon\n",
    "\t\t  ineruon"
   ]
  },
  {
   "cell_type": "code",
   "execution_count": 5,
   "id": "462a181d",
   "metadata": {},
   "outputs": [
    {
     "ename": "SyntaxError",
     "evalue": "invalid syntax (1262066476.py, line 3)",
     "output_type": "error",
     "traceback": [
      "\u001b[1;36m  Cell \u001b[1;32mIn[5], line 3\u001b[1;36m\u001b[0m\n\u001b[1;33m    for\u001b[0m\n\u001b[1;37m         ^\u001b[0m\n\u001b[1;31mSyntaxError\u001b[0m\u001b[1;31m:\u001b[0m invalid syntax\n"
     ]
    }
   ],
   "source": [
    "n = 5\n",
    "for i in range(5):\n",
    "    for  \n",
    "    \n"
   ]
  },
  {
   "cell_type": "code",
   "execution_count": 8,
   "id": "5f62fa9d",
   "metadata": {},
   "outputs": [],
   "source": [
    "l = [[1,2,3,4] , (2,3,4,5,6) , (3,4,5,6,7) , set([23,4,5,45,4,4,5,45,45,4,5]) , {'k1' :\"sudh\" , \"k2\" : \"ineuron\",\"k3\":\n",
    "            \"kumar\" , 3:6 , 7:8} , [\"ineuron\" , \"data science \"]]\n"
   ]
  },
  {
   "cell_type": "markdown",
   "id": "61ed2032",
   "metadata": {},
   "source": [
    "q3 : Try to extract all the list entity \n",
    "\n",
    "\n"
   ]
  },
  {
   "cell_type": "code",
   "execution_count": 14,
   "id": "9bc62508",
   "metadata": {},
   "outputs": [
    {
     "name": "stdout",
     "output_type": "stream",
     "text": [
      "[1, 2, 3, 4]\n",
      "['ineuron', 'data science ']\n"
     ]
    }
   ],
   "source": [
    "for i in l:\n",
    "    if type(i)== list:\n",
    "        print(i)"
   ]
  },
  {
   "cell_type": "markdown",
   "id": "d7c90522",
   "metadata": {},
   "source": [
    "q4 : Try to extract all the dict enteties"
   ]
  },
  {
   "cell_type": "code",
   "execution_count": 15,
   "id": "6615e993",
   "metadata": {},
   "outputs": [
    {
     "name": "stdout",
     "output_type": "stream",
     "text": [
      "{'k1': 'sudh', 'k2': 'ineuron', 'k3': 'kumar', 3: 6, 7: 8}\n"
     ]
    }
   ],
   "source": [
    "for i in l:\n",
    "    if type(i) == dict:\n",
    "        print(i)"
   ]
  },
  {
   "cell_type": "markdown",
   "id": "8d69a973",
   "metadata": {},
   "source": [
    "q5 : Try to extract all the tuples entities"
   ]
  },
  {
   "cell_type": "code",
   "execution_count": 18,
   "id": "7d7c4664",
   "metadata": {},
   "outputs": [
    {
     "name": "stdout",
     "output_type": "stream",
     "text": [
      "(2, 3, 4, 5, 6)\n",
      "(3, 4, 5, 6, 7)\n"
     ]
    }
   ],
   "source": [
    "for i  in l:\n",
    "    if type(i)==tuple:\n",
    "        print(i)"
   ]
  },
  {
   "cell_type": "markdown",
   "id": "ee16c90f",
   "metadata": {},
   "source": [
    "q6 : Try to extract all the numerical data it may b a part of dict key and values \n",
    "\n"
   ]
  },
  {
   "cell_type": "code",
   "execution_count": 31,
   "id": "81e3f025",
   "metadata": {},
   "outputs": [
    {
     "name": "stdout",
     "output_type": "stream",
     "text": [
      "1\n",
      "2\n",
      "3\n",
      "4\n",
      "2\n",
      "3\n",
      "4\n",
      "5\n",
      "6\n",
      "3\n",
      "4\n",
      "5\n",
      "6\n",
      "7\n",
      "3\n",
      "6\n",
      "7\n",
      "8\n"
     ]
    }
   ],
   "source": [
    "for i in l:\n",
    "    if type(i) == tuple or type(i)== list: \n",
    "        for j in i:\n",
    "            if type(j) == int:\n",
    "                print(j)\n",
    "    if type(i)==dict:\n",
    "        for k,v in i.items():\n",
    "            if type(k)==int or type(v)==int:\n",
    "                print(k)\n",
    "                print(v)\n"
   ]
  },
  {
   "cell_type": "markdown",
   "id": "08bcfcea",
   "metadata": {},
   "source": [
    "q7 : Try to give summation of all the numeric data "
   ]
  },
  {
   "cell_type": "code",
   "execution_count": 38,
   "id": "71166571",
   "metadata": {},
   "outputs": [
    {
     "name": "stdout",
     "output_type": "stream",
     "text": [
      "142\n"
     ]
    }
   ],
   "source": [
    "l1=[]\n",
    "for i in l:\n",
    "    for j in i:\n",
    "        if type(j)==int:\n",
    "            l1+=[j]\n",
    "sum1 = sum(l1)\n",
    "print(sum1)\n",
    "\n",
    "                "
   ]
  },
  {
   "cell_type": "markdown",
   "id": "0ebf0301",
   "metadata": {},
   "source": [
    "q8 : Try to filter out all the odd values out all numeric data which is a part of a list \n"
   ]
  },
  {
   "cell_type": "code",
   "execution_count": 40,
   "id": "3b02e514",
   "metadata": {},
   "outputs": [
    {
     "data": {
      "text/plain": [
       "[[1, 2, 3, 4],\n",
       " (2, 3, 4, 5, 6),\n",
       " (3, 4, 5, 6, 7),\n",
       " {4, 5, 23, 45},\n",
       " {'k1': 'sudh', 'k2': 'ineuron', 'k3': 'kumar', 3: 6, 7: 8},\n",
       " ['ineuron', 'data science ']]"
      ]
     },
     "execution_count": 40,
     "metadata": {},
     "output_type": "execute_result"
    }
   ],
   "source": [
    "l"
   ]
  },
  {
   "cell_type": "code",
   "execution_count": 53,
   "id": "0efa7cb0",
   "metadata": {},
   "outputs": [
    {
     "data": {
      "text/plain": [
       "[2, 4]"
      ]
     },
     "execution_count": 53,
     "metadata": {},
     "output_type": "execute_result"
    }
   ],
   "source": [
    "p=[]\n",
    "for i in l:\n",
    "    if type(i)==list:\n",
    "        for j in i:\n",
    "            if type(j)==int:\n",
    "                if j%2==0:\n",
    "                   \n",
    "                    p.append(j)\n",
    "p\n",
    "                    \n",
    "                    \n",
    "    \n"
   ]
  },
  {
   "cell_type": "markdown",
   "id": "49d2dbe4",
   "metadata": {},
   "source": [
    "q9 : Try to extract \"ineruon\" out of this data\n"
   ]
  },
  {
   "cell_type": "code",
   "execution_count": 55,
   "id": "9b73b665",
   "metadata": {},
   "outputs": [
    {
     "data": {
      "text/plain": [
       "[[1, 2, 3, 4],\n",
       " (2, 3, 4, 5, 6),\n",
       " (3, 4, 5, 6, 7),\n",
       " {4, 5, 23, 45},\n",
       " {'k1': 'sudh', 'k2': 'ineuron', 'k3': 'kumar', 3: 6, 7: 8},\n",
       " ['ineuron', 'data science ']]"
      ]
     },
     "execution_count": 55,
     "metadata": {},
     "output_type": "execute_result"
    }
   ],
   "source": [
    "l"
   ]
  },
  {
   "cell_type": "code",
   "execution_count": 58,
   "id": "de1d7966",
   "metadata": {},
   "outputs": [
    {
     "data": {
      "text/plain": [
       "'ineuron'"
      ]
     },
     "execution_count": 58,
     "metadata": {},
     "output_type": "execute_result"
    }
   ],
   "source": [
    "l[5][0]"
   ]
  },
  {
   "cell_type": "markdown",
   "id": "13ec415b",
   "metadata": {},
   "source": [
    "q10 :Try to find out a number of occurances of all the data \n"
   ]
  },
  {
   "cell_type": "code",
   "execution_count": 62,
   "id": "430f9536",
   "metadata": {},
   "outputs": [
    {
     "name": "stdout",
     "output_type": "stream",
     "text": [
      "{1: 1, 2: 2, 3: 4, 4: 4, 5: 3, 6: 3, 7: 2, 45: 1, 23: 1, 'k1': 1, 'sudh': 1, 'k2': 1, 'ineuron': 2, 'k3': 1, 'kumar': 1, 8: 1, 'data science ': 1} "
     ]
    }
   ],
   "source": [
    "occ ={}\n",
    "for i in l:\n",
    "    if isinstance(i,(tuple,list,set)):\n",
    "        for j in i:\n",
    "            occ[j]=occ.get(j,0)+1\n",
    "    elif isinstance(i,dict):\n",
    "        for k,v in i.items():\n",
    "            \n",
    "            occ[k]=occ.get(k,0)+1\n",
    "            occ[v]=occ.get(v,0)+1\n",
    "print(occ,end=\" \")\n",
    "            "
   ]
  },
  {
   "cell_type": "markdown",
   "id": "7d372c74",
   "metadata": {},
   "source": [
    "q11 : Try to find out number of keys in dict element\n",
    "\n",
    "​"
   ]
  },
  {
   "cell_type": "code",
   "execution_count": 60,
   "id": "958ffac5",
   "metadata": {},
   "outputs": [
    {
     "data": {
      "text/plain": [
       "[[1, 2, 3, 4],\n",
       " (2, 3, 4, 5, 6),\n",
       " (3, 4, 5, 6, 7),\n",
       " {4, 5, 23, 45},\n",
       " {'k1': 'sudh', 'k2': 'ineuron', 'k3': 'kumar', 3: 6, 7: 8},\n",
       " ['ineuron', 'data science ']]"
      ]
     },
     "execution_count": 60,
     "metadata": {},
     "output_type": "execute_result"
    }
   ],
   "source": [
    "l"
   ]
  },
  {
   "cell_type": "code",
   "execution_count": 64,
   "id": "1e6d8cd6",
   "metadata": {},
   "outputs": [
    {
     "name": "stdout",
     "output_type": "stream",
     "text": [
      "number of keys are 5\n"
     ]
    }
   ],
   "source": [
    "for i in l:\n",
    "    if type(i)==dict:\n",
    "        num_keys=len(i)\n",
    "        break\n",
    "        \n",
    "print(\"number of keys are\",num_keys)"
   ]
  },
  {
   "cell_type": "markdown",
   "id": "0c5d0ade",
   "metadata": {},
   "source": [
    "q12 : Try to filter out all the string data \n"
   ]
  },
  {
   "cell_type": "code",
   "execution_count": 71,
   "id": "2214f56b",
   "metadata": {},
   "outputs": [
    {
     "name": "stdout",
     "output_type": "stream",
     "text": [
      "k1\n",
      "sudh\n",
      "k2\n",
      "ineuron\n",
      "k3\n",
      "kumar\n",
      "ineuron\n",
      "data science \n"
     ]
    }
   ],
   "source": [
    "for i in l:\n",
    "    if  isinstance(i,(list,tuple,set)):\n",
    "        for j in i:\n",
    "            if  isinstance(j,str):\n",
    "                print(j)\n",
    "    elif isinstance(i,dict):\n",
    "        for k,v in i.items():\n",
    "            if  isinstance(k,str):\n",
    "                print(k)\n",
    "            if  isinstance(v,str):\n",
    "                print(v)\n",
    "        "
   ]
  },
  {
   "cell_type": "markdown",
   "id": "9cff84ed",
   "metadata": {},
   "source": [
    "q13 : Try to Find out alphanum in data"
   ]
  },
  {
   "cell_type": "code",
   "execution_count": 150,
   "id": "679915fa",
   "metadata": {},
   "outputs": [],
   "source": [
    "l = [[1,2,3,4] , (2,3,4,5,6) , (3,4,5,6,7) , set([23,4,5,45,4,4,5,45,45,4,5]) , {'k1' :\"sudh\" , \"k2\" : \"ineuron\",\"k3\":\n",
    "            \"kumar\" , 3:6 , 7:8} , [\"ineuron\" , \"data science \"]]\n"
   ]
  },
  {
   "cell_type": "code",
   "execution_count": 156,
   "id": "23867e1a",
   "metadata": {},
   "outputs": [
    {
     "name": "stdout",
     "output_type": "stream",
     "text": [
      "1\n",
      "2\n",
      "3\n",
      "4\n",
      "2\n",
      "3\n",
      "4\n",
      "5\n",
      "6\n",
      "3\n",
      "4\n",
      "5\n",
      "6\n",
      "7\n",
      "5\n",
      "4\n",
      "45\n",
      "23\n",
      "k1\n",
      "k2\n",
      "k3\n",
      "3\n",
      "7\n",
      "sudh\n",
      "ineuron\n",
      "kumar\n",
      "6\n",
      "8\n",
      "ineuron\n"
     ]
    }
   ],
   "source": [
    "l1=[]\n",
    "l2=[]\n",
    "for i in l:\n",
    "    if type(i)==dict:\n",
    "        for a,b in i.items():\n",
    "            l1+=[a]\n",
    "            l2+=[b]\n",
    "        for k in l1:\n",
    "            a=str(k)\n",
    "            if a.isalnum()==True:\n",
    "                    print(k)\n",
    "        for l in l2:\n",
    "            b=str(l)\n",
    "            if b.isalnum()==True:\n",
    "                print(b)\n",
    "    else: \n",
    "        for j in i:\n",
    "            a=str(j)\n",
    "            if a.isalnum()==True:\n",
    "                print(a)"
   ]
  },
  {
   "cell_type": "markdown",
   "id": "53e26263",
   "metadata": {},
   "source": [
    "q14 : Try to find out multiplication of all numeric value in the individual collection inside dataset "
   ]
  },
  {
   "cell_type": "code",
   "execution_count": 158,
   "id": "ce4fc40e",
   "metadata": {},
   "outputs": [],
   "source": [
    "l = [[1,2,3,4] , (2,3,4,5,6) , (3,4,5,6,7) , set([23,4,5,45,4,4,5,45,45,4,5]) , {'k1' :\"sudh\" , \"k2\" : \"ineuron\",\"k3\":\n",
    "            \"kumar\" , 3:6 , 7:8} , [\"ineuron\" , \"data science \"]]\n"
   ]
  },
  {
   "cell_type": "code",
   "execution_count": 159,
   "id": "cb6a5d54",
   "metadata": {},
   "outputs": [
    {
     "name": "stdout",
     "output_type": "stream",
     "text": [
      "[720, 2520, 20700, 3, 7]\n"
     ]
    }
   ],
   "source": [
    "l1=[]\n",
    "multi=1\n",
    "for i in l:\n",
    "    if type(i)==list or type(i)==tuple or type(i)==set:\n",
    "        multi=1\n",
    "        for j in i:\n",
    "            if type(j)==int:\n",
    "                 multi=multi*j\n",
    "        l1.append(multi)\n",
    "    elif type(i)==dict:\n",
    "        for a,b in i.items():\n",
    "            multi=1\n",
    "            if type(a)==int:\n",
    "                multi*=a\n",
    "                l1.append(multi)\n",
    "            elif type(b)==int:\n",
    "                multi*=b\n",
    "                l1.append(multi)\n",
    "\n",
    "print(l1) "
   ]
  },
  {
   "cell_type": "markdown",
   "id": "91890ff2",
   "metadata": {},
   "source": [
    "q15 : Try to unwrape all the collection inside collection and create a flat list"
   ]
  },
  {
   "cell_type": "code",
   "execution_count": 160,
   "id": "85b97497",
   "metadata": {},
   "outputs": [],
   "source": [
    "l=[[1, 2, 3, 4],\n",
    " (2, 3, 4, 5, 6),\n",
    " (3, 4, 5, 6, 7),\n",
    " {4, 5, 23, 45},\n",
    " {'k1': 'sudh', 'k2': 'ineuron', 'k3': 'kumar', 3: 6, 7: 8},\n",
    " ['ineuron', 'data science ']]"
   ]
  },
  {
   "cell_type": "code",
   "execution_count": 161,
   "id": "18634dec",
   "metadata": {},
   "outputs": [
    {
     "name": "stdout",
     "output_type": "stream",
     "text": [
      "[1, 2, 3, 4, 2, 3, 4, 5, 6, 3, 4, 5, 6, 7, 5, 4, 45, 23, 'k1', 'sudh', 'k2', 'ineuron', 'k3', 'kumar', 3, 6, 7, 8, 'ineuron', 'data science ']\n"
     ]
    }
   ],
   "source": [
    "l1=[]\n",
    "for i in l:\n",
    "    if type(i)==dict:\n",
    "        for a,b in i.items():\n",
    "            l1.append(a)\n",
    "            l1.append(b)\n",
    "    else:\n",
    "         for j in i:\n",
    "              l1.append(j)\n",
    "print(l1)"
   ]
  },
  {
   "cell_type": "markdown",
   "id": "03a2d810",
   "metadata": {},
   "source": [
    "1. Filter Floats from a List\n",
    "Write a program that extracts all the floating-point numbers from a list containing mixed data types. The program should create a new list containing only the floats.\n",
    "\n",
    "Example Input:\n",
    "l = [12.5, 45, \"hello\", 23.0, 56.78, 90, \"world\"]\n"
   ]
  },
  {
   "cell_type": "code",
   "execution_count": 73,
   "id": "d8236a59",
   "metadata": {},
   "outputs": [],
   "source": [
    "l = [12.5, 45, \"hello\", 23.0, 56.78, 90, \"world\"]\n"
   ]
  },
  {
   "cell_type": "code",
   "execution_count": 94,
   "id": "c37cbbf2",
   "metadata": {},
   "outputs": [
    {
     "name": "stdout",
     "output_type": "stream",
     "text": [
      "[12.5, 23.0, 56.78]\n"
     ]
    }
   ],
   "source": [
    "l = [12.5, 45, \"hello\", 23.0, 56.78, 90, \"world\"]\n",
    "list1=[]\n",
    "for i in l:\n",
    "    if type(i)==float:\n",
    "        list1.append(i)\n",
    "print(list1)"
   ]
  },
  {
   "cell_type": "markdown",
   "id": "bdff202e",
   "metadata": {},
   "source": [
    "2. Filter Strings from a List\n",
    "Write a program to extract all the string elements from a mixed list and store them in a new list.\n",
    "\n",
    "Example Input:\n",
    "\n",
    "l = [1, \"Python\", 3.14, \"Coding\", 42, \"AI\"]\n",
    "Expected Output:\n",
    "\n",
    "[\"Python\", \"Coding\", \"AI\"]"
   ]
  },
  {
   "cell_type": "code",
   "execution_count": 86,
   "id": "a2a1dc0e",
   "metadata": {},
   "outputs": [
    {
     "name": "stdout",
     "output_type": "stream",
     "text": [
      "['Python', 'Coding', 'AI']\n"
     ]
    }
   ],
   "source": [
    "l = [1, \"Python\", 3.14, \"Coding\", 42, \"AI\"]\n",
    "list=[]\n",
    "for i in l:\n",
    "    if type(i) == str:\n",
    "        list.append(i)\n",
    "\n",
    "print(list)"
   ]
  },
  {
   "cell_type": "markdown",
   "id": "850ed2ec",
   "metadata": {},
   "source": [
    "3. Filter Non-Integers from a List\n",
    "Write a program to create a new list that contains all elements from a given list except for integers.\n",
    "\n",
    "Example Input:\n",
    "l = [1, 2, 3, \"data\", 4.5, True, None]\n",
    "Expected Output:\n",
    "\n",
    "[\"data\", 4.5, True, None]"
   ]
  },
  {
   "cell_type": "code",
   "execution_count": 96,
   "id": "0905ad74",
   "metadata": {},
   "outputs": [
    {
     "name": "stdout",
     "output_type": "stream",
     "text": [
      "['data', 4.5, True, None]\n"
     ]
    }
   ],
   "source": [
    "l = [1, 2, 3, \"data\", 4.5, True, None]\n",
    "list3=[]\n",
    "for i in l:\n",
    "    if type(i)!= int:\n",
    "        list3.append(i)\n",
    "print(list3)"
   ]
  },
  {
   "cell_type": "markdown",
   "id": "1f38b084",
   "metadata": {},
   "source": [
    "\n",
    "4. Filter Boolean Values from a List\n",
    "Write a program to extract all the boolean values (True or False) from a mixed list.\n",
    "\n",
    "Example Input:\n",
    "l = [True, 42, \"yes\", False, 3.14, \"AI\"]\n"
   ]
  },
  {
   "cell_type": "code",
   "execution_count": 98,
   "id": "ec7086c9",
   "metadata": {},
   "outputs": [
    {
     "name": "stdout",
     "output_type": "stream",
     "text": [
      "[True, False]\n"
     ]
    }
   ],
   "source": [
    "l = [True, 42, \"yes\", False, 3.14, \"AI\"]\n",
    "l1 =[]\n",
    "for i in l:\n",
    "    if type(i)==bool:\n",
    "        l1.append(i)\n",
    "print(l1)"
   ]
  },
  {
   "cell_type": "markdown",
   "id": "f8494d08",
   "metadata": {},
   "source": [
    "\n",
    "5. Filter Even Integers from a List\n",
    "Write a program that filters only the even integers from a mixed list and stores them in a new list.\n",
    "\n",
    "Example Input:\n",
    "l = [1, 2, 3, 4, 5, 6, \"even\", 7.8]\n",
    "    \n",
    "Expected Output:\n",
    "[2, 4, 6]"
   ]
  },
  {
   "cell_type": "code",
   "execution_count": 115,
   "id": "c8f54c6f",
   "metadata": {},
   "outputs": [
    {
     "name": "stdout",
     "output_type": "stream",
     "text": [
      "[2, 4, 6]\n"
     ]
    }
   ],
   "source": [
    "l = [1, 2, 3, 4, 5, 6, \"even\", 7.8]\n",
    "lst1=[]\n",
    "for i in l:\n",
    "    if type(i)==int:\n",
    "        lst1.append(i)\n",
    "lst2=[]\n",
    "for j in lst1:\n",
    "    if j%2==0:\n",
    "        lst2.append(j)\n",
    "print(lst2)\n",
    "             "
   ]
  },
  {
   "cell_type": "markdown",
   "id": "0f81bc08",
   "metadata": {},
   "source": [
    "6. Filter Odd Integers from a List\n",
    "Write a program that extracts only the odd integers from a mixed list into a new list.\n",
    "\n",
    "Example Input:\n",
    "l = [10, 21, 32, 43, \"odd\", 54, 65]"
   ]
  },
  {
   "cell_type": "code",
   "execution_count": 118,
   "id": "4b977a8c",
   "metadata": {},
   "outputs": [
    {
     "name": "stdout",
     "output_type": "stream",
     "text": [
      "[21, 43, 65]\n"
     ]
    }
   ],
   "source": [
    "l= [10, 21, 32, 43, \"odd\", 54, 65]\n",
    "l1=[]\n",
    "for i in l:\n",
    "    if type(i)==int:\n",
    "        l1.append(i)\n",
    "l2=[]\n",
    "for j in l1:\n",
    "    if j%2!=0:\n",
    "        l2.append(j)\n",
    "print(l2)"
   ]
  },
  {
   "cell_type": "markdown",
   "id": "2c91804b",
   "metadata": {},
   "source": [
    "7. Filter Elements of a Specific Length\n",
    "Write a program to filter all string elements with a length greater than 4 characters from a mixed list.\n",
    "\n",
    "Example Input:\n",
    "l = [\"apple\", \"AI\", 123, \"data\", \"hello\", 3.14]\n",
    "    \n",
    "Expected Output:\n",
    "\n",
    "[\"apple\", \"hello\"]"
   ]
  },
  {
   "cell_type": "code",
   "execution_count": 124,
   "id": "d0d906de",
   "metadata": {},
   "outputs": [
    {
     "name": "stdout",
     "output_type": "stream",
     "text": [
      "['apple', 'hello']\n"
     ]
    }
   ],
   "source": [
    "l = [\"apple\", \"AI\", 123, \"data\", \"hello\", 3.14]\n",
    "lt1=[]\n",
    "for i in l:\n",
    "    if type(i)==str:\n",
    "        lt1.append(i)\n",
    "lt2=[]\n",
    "for j in lt1:\n",
    "    if len(j)>4:\n",
    "        lt2.append(j)\n",
    "print(lt2)\n"
   ]
  },
  {
   "cell_type": "markdown",
   "id": "aca7d895",
   "metadata": {},
   "source": [
    "8. Filter None Values\n",
    "Write a program to remove all None values from a mixed list and store the remaining elements in a new list.\n",
    "\n",
    "Example Input:\n",
    "l = [1, None, \"Python\", None, 45.6, \"data\"]"
   ]
  },
  {
   "cell_type": "code",
   "execution_count": 127,
   "id": "c87b133f",
   "metadata": {},
   "outputs": [
    {
     "name": "stdout",
     "output_type": "stream",
     "text": [
      "[1, 'Python', 45.6, 'data']\n"
     ]
    }
   ],
   "source": [
    "l = [1, None, \"Python\", None, 45.6, \"data\"]\n",
    "l1=[]\n",
    "for i in l:\n",
    "    if i is not None:\n",
    "        l1.append(i)\n",
    "print(l1)\n",
    "    "
   ]
  },
  {
   "cell_type": "markdown",
   "id": "04649d42",
   "metadata": {},
   "source": [
    "9. Filter Alphabetic Strings Only\n",
    "Write a program that extracts only alphabetic strings (strings without numbers or special characters) from a mixed list.\n",
    "\n",
    "Example Input:\n",
    "l = [\"AI\", \"Data123\", \"hello!\", \"world\", 42, \"Python3\"]\n",
    "\n",
    "Expected Output:\n",
    "[\"AI\", \"world\"]"
   ]
  },
  {
   "cell_type": "code",
   "execution_count": 131,
   "id": "4d6380d3",
   "metadata": {},
   "outputs": [
    {
     "name": "stdout",
     "output_type": "stream",
     "text": [
      "['AI', 'world']\n"
     ]
    }
   ],
   "source": [
    "l = [\"AI\", \"Data123\", \"hello!\", \"world\", 42, \"Python3\"]\n",
    "l1=[]\n",
    "for i in l:\n",
    "    a=str(i)\n",
    "    if a.isalpha()==True:\n",
    "        l1.append(i)\n",
    "print(l1)"
   ]
  },
  {
   "cell_type": "markdown",
   "id": "f9456bc9",
   "metadata": {},
   "source": [
    "10. Filter Elements of Specific Data Type\n",
    "Write a program that asks the user to input a data type (e.g., int, float, str) and filters elements of that type from a given mixed list.\n",
    "\n",
    "Example Input:\n",
    "l = [1, 2.5, \"hello\", 3, 4.0, \"world\"]\n",
    "    \n",
    "Data type to filter: float\n",
    "\n",
    "Expected Output:\n",
    "\n",
    "[2.5, 4.0]"
   ]
  },
  {
   "cell_type": "code",
   "execution_count": 132,
   "id": "435adbf3",
   "metadata": {},
   "outputs": [
    {
     "name": "stdout",
     "output_type": "stream",
     "text": [
      "Data type(int,float,str,bool) to filter:int\n",
      "[1, 3]\n"
     ]
    }
   ],
   "source": [
    "l = [1, 2.5, \"hello\", 3, 4.0, \"world\"]\n",
    "list1 =[]\n",
    "\n",
    "n1=input(\"Data type(int,float,str,bool) to filter:\").lower()\n",
    "if n1==\"float\":\n",
    "    for i in l:\n",
    "        if type(i)==float:\n",
    "            list1.append(i)\n",
    "elif n1==\"str\":\n",
    "    for i in l:\n",
    "        if type(i)==str:\n",
    "            list1.append(i)\n",
    "elif n1==\"int\":\n",
    "    for i in l:\n",
    "        if type(i)==int:\n",
    "            list1.append(i)\n",
    "elif n1==\"bool\":\n",
    "      for i in l:\n",
    "        if type(i)==bool:\n",
    "            list1.append(i)\n",
    "print(list1)\n",
    "     "
   ]
  }
 ],
 "metadata": {
  "kernelspec": {
   "display_name": "Python 3 (ipykernel)",
   "language": "python",
   "name": "python3"
  },
  "language_info": {
   "codemirror_mode": {
    "name": "ipython",
    "version": 3
   },
   "file_extension": ".py",
   "mimetype": "text/x-python",
   "name": "python",
   "nbconvert_exporter": "python",
   "pygments_lexer": "ipython3",
   "version": "3.11.5"
  }
 },
 "nbformat": 4,
 "nbformat_minor": 5
}
