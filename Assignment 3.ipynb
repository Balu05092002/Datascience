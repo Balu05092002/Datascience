{
 "cells": [
  {
   "cell_type": "markdown",
   "id": "194168e6",
   "metadata": {},
   "source": [
    "1. Declare two variables `a` and `b`, assign integer values to them, and print their sum.\n",
    "    - **Expected Output:** The sum of `a` and `b`.\n",
    "    "
   ]
  },
  {
   "cell_type": "code",
   "execution_count": 2,
   "id": "5f4c5e44",
   "metadata": {},
   "outputs": [
    {
     "name": "stdout",
     "output_type": "stream",
     "text": [
      "sum of numbers 63\n"
     ]
    }
   ],
   "source": [
    "a=45\n",
    "b=18\n",
    "c=a+b\n",
    "print(\"sum of numbers\",c)"
   ]
  },
  {
   "cell_type": "markdown",
   "id": "6147d532",
   "metadata": {},
   "source": [
    "2.Create a variable `name` and assign your name to it. Print a greeting message using your name.\n",
    "    - **Expected Output:** Greeting message with your name, e.g., \"Hello, John!\""
   ]
  },
  {
   "cell_type": "code",
   "execution_count": 3,
   "id": "3e434311",
   "metadata": {},
   "outputs": [
    {
     "name": "stdout",
     "output_type": "stream",
     "text": [
      "Hello Rohit!\n"
     ]
    }
   ],
   "source": [
    "name = \"Rohit!\"\n",
    "print(\"Hello\",name)"
   ]
  },
  {
   "cell_type": "markdown",
   "id": "dc2e6421",
   "metadata": {},
   "source": [
    "3. Define a variable `pi` and assign the value of π (pi) to it. Print the value of `pi`.\n",
    "    - **Expected Output:** The value of π (pi), e.g., 3.14159."
   ]
  },
  {
   "cell_type": "code",
   "execution_count": 12,
   "id": "38fbc308",
   "metadata": {},
   "outputs": [
    {
     "name": "stdout",
     "output_type": "stream",
     "text": [
      "The value of  π(pi) 3.14\n"
     ]
    }
   ],
   "source": [
    "pi =  3.14\n",
    "\n",
    "print(\"The value of  π(pi)\",pi)"
   ]
  },
  {
   "cell_type": "markdown",
   "id": "1b93af9e",
   "metadata": {},
   "source": [
    "4. Define a variable `is_raining` and ask the user to input either \"True\" or \"False\" (as a string). Convert the input to a boolean and print its type.\n",
    "    - **Expected Input:** \"True\" or \"False\"\n",
    "    - **Expected Output:** The data type of the converted boolean."
   ]
  },
  {
   "cell_type": "code",
   "execution_count": 14,
   "id": "9f70d3ec",
   "metadata": {},
   "outputs": [
    {
     "name": "stdout",
     "output_type": "stream",
     "text": [
      "Is it raining?Enter 'True' or 'False':True\n",
      "<class 'bool'>\n"
     ]
    }
   ],
   "source": [
    "is_raining =input(\"Is it raining?Enter 'True' or 'False':\")\n",
    "convert_boolean=bool(is_raining)\n",
    "print(type(convert_boolean))"
   ]
  },
  {
   "cell_type": "markdown",
   "id": "086d7d0d",
   "metadata": {},
   "source": [
    "5. Create a string variable `sentence` containing any sentence of your choice. Ask the user to input a number, convert it to an integer, and print the sentence repeated that number of times.\n",
    "    - **Expected Input:** A number (e.g., \"3\")\n",
    "    - **Expected Output:** The sentence repeated the specified number of times."
   ]
  },
  {
   "cell_type": "code",
   "execution_count": 16,
   "id": "463ad5bd",
   "metadata": {},
   "outputs": [
    {
     "name": "stdout",
     "output_type": "stream",
     "text": [
      "Enter a Number:3\n",
      "learning python\n",
      "learning python\n",
      "learning python\n"
     ]
    }
   ],
   "source": [
    "sentence = \"learning python\"\n",
    "a=int(input(\"Enter a Number:\"))\n",
    "for i in range (0,a):\n",
    "    print(sentence)"
   ]
  },
  {
   "cell_type": "markdown",
   "id": "0e0ea591",
   "metadata": {},
   "source": [
    "6. Given two variables `x` and `y`, perform the following operations and print the results:\n",
    "    - Addition of `x` and `y`.\n",
    "    - Subtraction of `y` from `x`.\n",
    "    - Multiplication of `x` and `y`.\n",
    "    - Division of `x` by `y`.\n",
    "    - `x` raised to the power of `y`.\n",
    "    - The remainder when `x` is divided by `y`.\n",
    "    - The floor division of `x` by `y`."
   ]
  },
  {
   "cell_type": "code",
   "execution_count": 18,
   "id": "586753b3",
   "metadata": {},
   "outputs": [
    {
     "name": "stdout",
     "output_type": "stream",
     "text": [
      "Enter x number:45\n",
      "Enter y number:18\n",
      "Addition of x and y: 63\n",
      "Subtraction of x and y: 27\n",
      "Multiplication  of x and y: 810\n",
      "Division of x and y: 2.5\n",
      "x raised to the power of y: 572565594852444156646728515625\n",
      "The remainder when x is divided by y: 9\n",
      "The floor division of x by y: 2\n"
     ]
    }
   ],
   "source": [
    "x = int(input(\"Enter x number:\"))\n",
    "y = int(input(\"Enter y number:\"))\n",
    "print(\"Addition of x and y:\",x+y)\n",
    "print(\"Subtraction of x and y:\",x-y)\n",
    "print(\"Multiplication  of x and y:\",x*y)\n",
    "print(\"Division of x and y:\",x/y)\n",
    "print(\"x raised to the power of y:\",x**y)\n",
    "print(\"The remainder when x is divided by y:\",x%y)\n",
    "print(\"The floor division of x by y:\",x//y)\n",
    "\n"
   ]
  },
  {
   "cell_type": "markdown",
   "id": "04a931c5",
   "metadata": {},
   "source": [
    "7. Define a variable `value` and assign any numerical value to it. Ask the user to input a new value. Update the variable `value` with the new input and print the updated value.\n",
    "- **Expected Input:** A numerical value (e.g., \"42\")\n",
    "- **Expected Output:** The updated value of the variable."
   ]
  },
  {
   "cell_type": "code",
   "execution_count": 20,
   "id": "726ea996",
   "metadata": {},
   "outputs": [
    {
     "name": "stdout",
     "output_type": "stream",
     "text": [
      "Enter a new value18\n",
      "18\n"
     ]
    }
   ],
   "source": [
    "value= 45\n",
    "a=int(input(\"Enter a new value\"))\n",
    "value = a\n",
    "print(value)"
   ]
  },
  {
   "cell_type": "markdown",
   "id": "31ba0116",
   "metadata": {},
   "source": [
    "l = [3,4,5,6,7 , [23,456,67,8,78,78] , [345,56,87,8,98,9] , (234,6657,6) , {\"key1\" :\"sudh\" , 234:[23,45,656]}]\n",
    "\n",
    "1 . Try to reverse a list \n",
    "2.  try to access 234 out of this list \n",
    "3 . try to access 456 \n",
    "4 . Try to extract only a list collection form list l \n",
    "5 . Try to extract \"sudh\"\n",
    "6 . Try to list all the key in dict element avaible in list \n",
    "7 . Try to extract all the value element form dict available in list"
   ]
  },
  {
   "cell_type": "code",
   "execution_count": 22,
   "id": "08d39087",
   "metadata": {},
   "outputs": [],
   "source": [
    "l = [3,4,5,6,7 , [23,456,67,8,78,78] , [345,56,87,8,98,9] , (234,6657,6) , {\"key1\" :\"sudh\" , 234:[23,45,656]}]"
   ]
  },
  {
   "cell_type": "markdown",
   "id": "990feaf4",
   "metadata": {},
   "source": [
    "1 . Try to reverse a list"
   ]
  },
  {
   "cell_type": "code",
   "execution_count": 24,
   "id": "b6127e88",
   "metadata": {},
   "outputs": [
    {
     "data": {
      "text/plain": [
       "[{'key1': 'sudh', 234: [23, 45, 656]},\n",
       " (234, 6657, 6),\n",
       " [345, 56, 87, 8, 98, 9],\n",
       " [23, 456, 67, 8, 78, 78],\n",
       " 7,\n",
       " 6,\n",
       " 5,\n",
       " 4,\n",
       " 3]"
      ]
     },
     "execution_count": 24,
     "metadata": {},
     "output_type": "execute_result"
    }
   ],
   "source": [
    "l[::-1]"
   ]
  },
  {
   "cell_type": "markdown",
   "id": "19934654",
   "metadata": {},
   "source": [
    "2. try to access 234 out of this list"
   ]
  },
  {
   "cell_type": "code",
   "execution_count": 26,
   "id": "f3dca98b",
   "metadata": {},
   "outputs": [
    {
     "data": {
      "text/plain": [
       "234"
      ]
     },
     "execution_count": 26,
     "metadata": {},
     "output_type": "execute_result"
    }
   ],
   "source": [
    "l[7][0]"
   ]
  },
  {
   "cell_type": "markdown",
   "id": "7bf5d785",
   "metadata": {},
   "source": [
    "3 . try to access 456"
   ]
  },
  {
   "cell_type": "code",
   "execution_count": 28,
   "id": "396bcdcb",
   "metadata": {},
   "outputs": [
    {
     "data": {
      "text/plain": [
       "456"
      ]
     },
     "execution_count": 28,
     "metadata": {},
     "output_type": "execute_result"
    }
   ],
   "source": [
    "l[5][1]\n"
   ]
  },
  {
   "cell_type": "markdown",
   "id": "f2a0054a",
   "metadata": {},
   "source": [
    "4.Try to extract only a list collection form list"
   ]
  },
  {
   "cell_type": "code",
   "execution_count": 31,
   "id": "83cc91bf",
   "metadata": {},
   "outputs": [
    {
     "data": {
      "text/plain": [
       "[23, 456, 67, 8, 78, 78]"
      ]
     },
     "execution_count": 31,
     "metadata": {},
     "output_type": "execute_result"
    }
   ],
   "source": [
    "l[5]\n"
   ]
  },
  {
   "cell_type": "code",
   "execution_count": 33,
   "id": "65f9d52a",
   "metadata": {},
   "outputs": [
    {
     "data": {
      "text/plain": [
       "[345, 56, 87, 8, 98, 9]"
      ]
     },
     "execution_count": 33,
     "metadata": {},
     "output_type": "execute_result"
    }
   ],
   "source": [
    "l[6]"
   ]
  },
  {
   "cell_type": "markdown",
   "id": "51c67ba9",
   "metadata": {},
   "source": [
    "5 . Try to extract \"sudh\""
   ]
  },
  {
   "cell_type": "code",
   "execution_count": 38,
   "id": "acc48a21",
   "metadata": {},
   "outputs": [
    {
     "data": {
      "text/plain": [
       "'sudh'"
      ]
     },
     "execution_count": 38,
     "metadata": {},
     "output_type": "execute_result"
    }
   ],
   "source": [
    "l[8]['key1']"
   ]
  },
  {
   "cell_type": "markdown",
   "id": "3827aa19",
   "metadata": {},
   "source": [
    "6 . Try to list all the key in dict element avaible in list "
   ]
  },
  {
   "cell_type": "code",
   "execution_count": 40,
   "id": "8345b9b6",
   "metadata": {},
   "outputs": [],
   "source": [
    "l45 = l[8]"
   ]
  },
  {
   "cell_type": "code",
   "execution_count": 43,
   "id": "3df81d55",
   "metadata": {},
   "outputs": [
    {
     "data": {
      "text/plain": [
       "{'key1': 'sudh', 234: [23, 45, 656]}"
      ]
     },
     "execution_count": 43,
     "metadata": {},
     "output_type": "execute_result"
    }
   ],
   "source": [
    "l45\n"
   ]
  },
  {
   "cell_type": "code",
   "execution_count": 45,
   "id": "913dfddd",
   "metadata": {},
   "outputs": [
    {
     "data": {
      "text/plain": [
       "dict_keys(['key1', 234])"
      ]
     },
     "execution_count": 45,
     "metadata": {},
     "output_type": "execute_result"
    }
   ],
   "source": [
    "l45.keys()"
   ]
  },
  {
   "cell_type": "code",
   "execution_count": 47,
   "id": "516fa462",
   "metadata": {},
   "outputs": [],
   "source": [
    "l18 = list(l45)"
   ]
  },
  {
   "cell_type": "code",
   "execution_count": 48,
   "id": "6975ffde",
   "metadata": {},
   "outputs": [
    {
     "data": {
      "text/plain": [
       "['key1', 234]"
      ]
     },
     "execution_count": 48,
     "metadata": {},
     "output_type": "execute_result"
    }
   ],
   "source": [
    "l18"
   ]
  },
  {
   "cell_type": "markdown",
   "id": "32eaed58",
   "metadata": {},
   "source": [
    "7 . Try to extract all the value element form dict available in list"
   ]
  },
  {
   "cell_type": "code",
   "execution_count": 50,
   "id": "0f0650da",
   "metadata": {},
   "outputs": [
    {
     "data": {
      "text/plain": [
       "['sudh', [23, 45, 656]]"
      ]
     },
     "execution_count": 50,
     "metadata": {},
     "output_type": "execute_result"
    }
   ],
   "source": [
    "list(l45.values())"
   ]
  }
 ],
 "metadata": {
  "kernelspec": {
   "display_name": "Python 3 (ipykernel)",
   "language": "python",
   "name": "python3"
  },
  "language_info": {
   "codemirror_mode": {
    "name": "ipython",
    "version": 3
   },
   "file_extension": ".py",
   "mimetype": "text/x-python",
   "name": "python",
   "nbconvert_exporter": "python",
   "pygments_lexer": "ipython3",
   "version": "3.11.5"
  }
 },
 "nbformat": 4,
 "nbformat_minor": 5
}
